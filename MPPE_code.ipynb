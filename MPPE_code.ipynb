{
 "cells": [
  {
   "cell_type": "markdown",
   "metadata": {},
   "source": [
    "# Mobile Phone Machine Learning"
   ]
  },
  {
   "cell_type": "code",
   "execution_count": 1,
   "metadata": {},
   "outputs": [],
   "source": [
    "import pandas as pd\n",
    "import numpy as np\n",
    "import seaborn as sns\n",
    "import matplotlib.pyplot as plt\n",
    "%matplotlib inline\n",
    "from sklearn.model_selection import train_test_split\n",
    "from sklearn.linear_model import LogisticRegression\n",
    "from sklearn.neighbors import KNeighborsClassifier\n",
    "from sklearn.metrics import accuracy_score, precision_score, recall_score, f1_score, confusion_matrix\n",
    "from sklearn.preprocessing import StandardScaler\n",
    "from sklearn.neighbors import KNeighborsClassifier\n",
    "from sklearn.svm import SVC\n",
    "from sklearn.naive_bayes import GaussianNB\n",
    "from sklearn.tree import DecisionTreeClassifier\n",
    "from sklearn.ensemble import RandomForestClassifier\n",
    "from sklearn.ensemble import AdaBoostClassifier\n",
    "from catboost import CatBoostClassifier\n",
    "from sklearn.decomposition import PCA\n",
    "from sklearn.metrics import accuracy_score, precision_score, recall_score, f1_score, confusion_matrix\n",
    "from sklearn.decomposition import PCA"
   ]
  },
  {
   "cell_type": "code",
   "execution_count": 2,
   "metadata": {},
   "outputs": [
    {
     "data": {
      "text/html": [
       "<div>\n",
       "<style scoped>\n",
       "    .dataframe tbody tr th:only-of-type {\n",
       "        vertical-align: middle;\n",
       "    }\n",
       "\n",
       "    .dataframe tbody tr th {\n",
       "        vertical-align: top;\n",
       "    }\n",
       "\n",
       "    .dataframe thead th {\n",
       "        text-align: right;\n",
       "    }\n",
       "</style>\n",
       "<table border=\"1\" class=\"dataframe\">\n",
       "  <thead>\n",
       "    <tr style=\"text-align: right;\">\n",
       "      <th></th>\n",
       "      <th>battery_power</th>\n",
       "      <th>blue</th>\n",
       "      <th>clock_speed</th>\n",
       "      <th>dual_sim</th>\n",
       "      <th>fc</th>\n",
       "      <th>four_g</th>\n",
       "      <th>int_memory</th>\n",
       "      <th>m_dep</th>\n",
       "      <th>mobile_wt</th>\n",
       "      <th>n_cores</th>\n",
       "      <th>...</th>\n",
       "      <th>px_height</th>\n",
       "      <th>px_width</th>\n",
       "      <th>ram</th>\n",
       "      <th>sc_h</th>\n",
       "      <th>sc_w</th>\n",
       "      <th>talk_time</th>\n",
       "      <th>three_g</th>\n",
       "      <th>touch_screen</th>\n",
       "      <th>wifi</th>\n",
       "      <th>price_range</th>\n",
       "    </tr>\n",
       "  </thead>\n",
       "  <tbody>\n",
       "    <tr>\n",
       "      <th>0</th>\n",
       "      <td>842</td>\n",
       "      <td>0</td>\n",
       "      <td>2.2</td>\n",
       "      <td>0</td>\n",
       "      <td>1</td>\n",
       "      <td>0</td>\n",
       "      <td>7</td>\n",
       "      <td>0.6</td>\n",
       "      <td>188</td>\n",
       "      <td>2</td>\n",
       "      <td>...</td>\n",
       "      <td>20</td>\n",
       "      <td>756</td>\n",
       "      <td>2549</td>\n",
       "      <td>9</td>\n",
       "      <td>7</td>\n",
       "      <td>19</td>\n",
       "      <td>0</td>\n",
       "      <td>0</td>\n",
       "      <td>1</td>\n",
       "      <td>1</td>\n",
       "    </tr>\n",
       "    <tr>\n",
       "      <th>1</th>\n",
       "      <td>1021</td>\n",
       "      <td>1</td>\n",
       "      <td>0.5</td>\n",
       "      <td>1</td>\n",
       "      <td>0</td>\n",
       "      <td>1</td>\n",
       "      <td>53</td>\n",
       "      <td>0.7</td>\n",
       "      <td>136</td>\n",
       "      <td>3</td>\n",
       "      <td>...</td>\n",
       "      <td>905</td>\n",
       "      <td>1988</td>\n",
       "      <td>2631</td>\n",
       "      <td>17</td>\n",
       "      <td>3</td>\n",
       "      <td>7</td>\n",
       "      <td>1</td>\n",
       "      <td>1</td>\n",
       "      <td>0</td>\n",
       "      <td>2</td>\n",
       "    </tr>\n",
       "    <tr>\n",
       "      <th>2</th>\n",
       "      <td>563</td>\n",
       "      <td>1</td>\n",
       "      <td>0.5</td>\n",
       "      <td>1</td>\n",
       "      <td>2</td>\n",
       "      <td>1</td>\n",
       "      <td>41</td>\n",
       "      <td>0.9</td>\n",
       "      <td>145</td>\n",
       "      <td>5</td>\n",
       "      <td>...</td>\n",
       "      <td>1263</td>\n",
       "      <td>1716</td>\n",
       "      <td>2603</td>\n",
       "      <td>11</td>\n",
       "      <td>2</td>\n",
       "      <td>9</td>\n",
       "      <td>1</td>\n",
       "      <td>1</td>\n",
       "      <td>0</td>\n",
       "      <td>2</td>\n",
       "    </tr>\n",
       "    <tr>\n",
       "      <th>3</th>\n",
       "      <td>615</td>\n",
       "      <td>1</td>\n",
       "      <td>2.5</td>\n",
       "      <td>0</td>\n",
       "      <td>0</td>\n",
       "      <td>0</td>\n",
       "      <td>10</td>\n",
       "      <td>0.8</td>\n",
       "      <td>131</td>\n",
       "      <td>6</td>\n",
       "      <td>...</td>\n",
       "      <td>1216</td>\n",
       "      <td>1786</td>\n",
       "      <td>2769</td>\n",
       "      <td>16</td>\n",
       "      <td>8</td>\n",
       "      <td>11</td>\n",
       "      <td>1</td>\n",
       "      <td>0</td>\n",
       "      <td>0</td>\n",
       "      <td>2</td>\n",
       "    </tr>\n",
       "    <tr>\n",
       "      <th>4</th>\n",
       "      <td>1821</td>\n",
       "      <td>1</td>\n",
       "      <td>1.2</td>\n",
       "      <td>0</td>\n",
       "      <td>13</td>\n",
       "      <td>1</td>\n",
       "      <td>44</td>\n",
       "      <td>0.6</td>\n",
       "      <td>141</td>\n",
       "      <td>2</td>\n",
       "      <td>...</td>\n",
       "      <td>1208</td>\n",
       "      <td>1212</td>\n",
       "      <td>1411</td>\n",
       "      <td>8</td>\n",
       "      <td>2</td>\n",
       "      <td>15</td>\n",
       "      <td>1</td>\n",
       "      <td>1</td>\n",
       "      <td>0</td>\n",
       "      <td>1</td>\n",
       "    </tr>\n",
       "    <tr>\n",
       "      <th>...</th>\n",
       "      <td>...</td>\n",
       "      <td>...</td>\n",
       "      <td>...</td>\n",
       "      <td>...</td>\n",
       "      <td>...</td>\n",
       "      <td>...</td>\n",
       "      <td>...</td>\n",
       "      <td>...</td>\n",
       "      <td>...</td>\n",
       "      <td>...</td>\n",
       "      <td>...</td>\n",
       "      <td>...</td>\n",
       "      <td>...</td>\n",
       "      <td>...</td>\n",
       "      <td>...</td>\n",
       "      <td>...</td>\n",
       "      <td>...</td>\n",
       "      <td>...</td>\n",
       "      <td>...</td>\n",
       "      <td>...</td>\n",
       "      <td>...</td>\n",
       "    </tr>\n",
       "    <tr>\n",
       "      <th>1995</th>\n",
       "      <td>794</td>\n",
       "      <td>1</td>\n",
       "      <td>0.5</td>\n",
       "      <td>1</td>\n",
       "      <td>0</td>\n",
       "      <td>1</td>\n",
       "      <td>2</td>\n",
       "      <td>0.8</td>\n",
       "      <td>106</td>\n",
       "      <td>6</td>\n",
       "      <td>...</td>\n",
       "      <td>1222</td>\n",
       "      <td>1890</td>\n",
       "      <td>668</td>\n",
       "      <td>13</td>\n",
       "      <td>4</td>\n",
       "      <td>19</td>\n",
       "      <td>1</td>\n",
       "      <td>1</td>\n",
       "      <td>0</td>\n",
       "      <td>0</td>\n",
       "    </tr>\n",
       "    <tr>\n",
       "      <th>1996</th>\n",
       "      <td>1965</td>\n",
       "      <td>1</td>\n",
       "      <td>2.6</td>\n",
       "      <td>1</td>\n",
       "      <td>0</td>\n",
       "      <td>0</td>\n",
       "      <td>39</td>\n",
       "      <td>0.2</td>\n",
       "      <td>187</td>\n",
       "      <td>4</td>\n",
       "      <td>...</td>\n",
       "      <td>915</td>\n",
       "      <td>1965</td>\n",
       "      <td>2032</td>\n",
       "      <td>11</td>\n",
       "      <td>10</td>\n",
       "      <td>16</td>\n",
       "      <td>1</td>\n",
       "      <td>1</td>\n",
       "      <td>1</td>\n",
       "      <td>2</td>\n",
       "    </tr>\n",
       "    <tr>\n",
       "      <th>1997</th>\n",
       "      <td>1911</td>\n",
       "      <td>0</td>\n",
       "      <td>0.9</td>\n",
       "      <td>1</td>\n",
       "      <td>1</td>\n",
       "      <td>1</td>\n",
       "      <td>36</td>\n",
       "      <td>0.7</td>\n",
       "      <td>108</td>\n",
       "      <td>8</td>\n",
       "      <td>...</td>\n",
       "      <td>868</td>\n",
       "      <td>1632</td>\n",
       "      <td>3057</td>\n",
       "      <td>9</td>\n",
       "      <td>1</td>\n",
       "      <td>5</td>\n",
       "      <td>1</td>\n",
       "      <td>1</td>\n",
       "      <td>0</td>\n",
       "      <td>3</td>\n",
       "    </tr>\n",
       "    <tr>\n",
       "      <th>1998</th>\n",
       "      <td>1512</td>\n",
       "      <td>0</td>\n",
       "      <td>0.9</td>\n",
       "      <td>0</td>\n",
       "      <td>4</td>\n",
       "      <td>1</td>\n",
       "      <td>46</td>\n",
       "      <td>0.1</td>\n",
       "      <td>145</td>\n",
       "      <td>5</td>\n",
       "      <td>...</td>\n",
       "      <td>336</td>\n",
       "      <td>670</td>\n",
       "      <td>869</td>\n",
       "      <td>18</td>\n",
       "      <td>10</td>\n",
       "      <td>19</td>\n",
       "      <td>1</td>\n",
       "      <td>1</td>\n",
       "      <td>1</td>\n",
       "      <td>0</td>\n",
       "    </tr>\n",
       "    <tr>\n",
       "      <th>1999</th>\n",
       "      <td>510</td>\n",
       "      <td>1</td>\n",
       "      <td>2.0</td>\n",
       "      <td>1</td>\n",
       "      <td>5</td>\n",
       "      <td>1</td>\n",
       "      <td>45</td>\n",
       "      <td>0.9</td>\n",
       "      <td>168</td>\n",
       "      <td>6</td>\n",
       "      <td>...</td>\n",
       "      <td>483</td>\n",
       "      <td>754</td>\n",
       "      <td>3919</td>\n",
       "      <td>19</td>\n",
       "      <td>4</td>\n",
       "      <td>2</td>\n",
       "      <td>1</td>\n",
       "      <td>1</td>\n",
       "      <td>1</td>\n",
       "      <td>3</td>\n",
       "    </tr>\n",
       "  </tbody>\n",
       "</table>\n",
       "<p>2000 rows × 21 columns</p>\n",
       "</div>"
      ],
      "text/plain": [
       "      battery_power  blue  clock_speed  dual_sim  fc  four_g  int_memory  \\\n",
       "0               842     0          2.2         0   1       0           7   \n",
       "1              1021     1          0.5         1   0       1          53   \n",
       "2               563     1          0.5         1   2       1          41   \n",
       "3               615     1          2.5         0   0       0          10   \n",
       "4              1821     1          1.2         0  13       1          44   \n",
       "...             ...   ...          ...       ...  ..     ...         ...   \n",
       "1995            794     1          0.5         1   0       1           2   \n",
       "1996           1965     1          2.6         1   0       0          39   \n",
       "1997           1911     0          0.9         1   1       1          36   \n",
       "1998           1512     0          0.9         0   4       1          46   \n",
       "1999            510     1          2.0         1   5       1          45   \n",
       "\n",
       "      m_dep  mobile_wt  n_cores  ...  px_height  px_width   ram  sc_h  sc_w  \\\n",
       "0       0.6        188        2  ...         20       756  2549     9     7   \n",
       "1       0.7        136        3  ...        905      1988  2631    17     3   \n",
       "2       0.9        145        5  ...       1263      1716  2603    11     2   \n",
       "3       0.8        131        6  ...       1216      1786  2769    16     8   \n",
       "4       0.6        141        2  ...       1208      1212  1411     8     2   \n",
       "...     ...        ...      ...  ...        ...       ...   ...   ...   ...   \n",
       "1995    0.8        106        6  ...       1222      1890   668    13     4   \n",
       "1996    0.2        187        4  ...        915      1965  2032    11    10   \n",
       "1997    0.7        108        8  ...        868      1632  3057     9     1   \n",
       "1998    0.1        145        5  ...        336       670   869    18    10   \n",
       "1999    0.9        168        6  ...        483       754  3919    19     4   \n",
       "\n",
       "      talk_time  three_g  touch_screen  wifi  price_range  \n",
       "0            19        0             0     1            1  \n",
       "1             7        1             1     0            2  \n",
       "2             9        1             1     0            2  \n",
       "3            11        1             0     0            2  \n",
       "4            15        1             1     0            1  \n",
       "...         ...      ...           ...   ...          ...  \n",
       "1995         19        1             1     0            0  \n",
       "1996         16        1             1     1            2  \n",
       "1997          5        1             1     0            3  \n",
       "1998         19        1             1     1            0  \n",
       "1999          2        1             1     1            3  \n",
       "\n",
       "[2000 rows x 21 columns]"
      ]
     },
     "execution_count": 2,
     "metadata": {},
     "output_type": "execute_result"
    }
   ],
   "source": [
    "df=pd.read_csv('/Users/ludovica/Desktop/Final Project Dataset/App/train.csv')\n",
    "df"
   ]
  },
  {
   "cell_type": "markdown",
   "metadata": {},
   "source": [
    "# Cleaning Data"
   ]
  },
  {
   "cell_type": "code",
   "execution_count": 3,
   "metadata": {},
   "outputs": [
    {
     "data": {
      "text/plain": [
       "(2000, 21)"
      ]
     },
     "execution_count": 3,
     "metadata": {},
     "output_type": "execute_result"
    }
   ],
   "source": [
    "df.shape"
   ]
  },
  {
   "cell_type": "code",
   "execution_count": 4,
   "metadata": {},
   "outputs": [
    {
     "data": {
      "text/plain": [
       "Index(['battery_power', 'blue', 'clock_speed', 'dual_sim', 'fc', 'four_g',\n",
       "       'int_memory', 'm_dep', 'mobile_wt', 'n_cores', 'pc', 'px_height',\n",
       "       'px_width', 'ram', 'sc_h', 'sc_w', 'talk_time', 'three_g',\n",
       "       'touch_screen', 'wifi', 'price_range'],\n",
       "      dtype='object')"
      ]
     },
     "execution_count": 4,
     "metadata": {},
     "output_type": "execute_result"
    }
   ],
   "source": [
    "df.columns"
   ]
  },
  {
   "cell_type": "code",
   "execution_count": 5,
   "metadata": {},
   "outputs": [
    {
     "name": "stdout",
     "output_type": "stream",
     "text": [
      "<class 'pandas.core.frame.DataFrame'>\n",
      "RangeIndex: 2000 entries, 0 to 1999\n",
      "Data columns (total 21 columns):\n",
      " #   Column         Non-Null Count  Dtype  \n",
      "---  ------         --------------  -----  \n",
      " 0   battery_power  2000 non-null   int64  \n",
      " 1   blue           2000 non-null   int64  \n",
      " 2   clock_speed    2000 non-null   float64\n",
      " 3   dual_sim       2000 non-null   int64  \n",
      " 4   fc             2000 non-null   int64  \n",
      " 5   four_g         2000 non-null   int64  \n",
      " 6   int_memory     2000 non-null   int64  \n",
      " 7   m_dep          2000 non-null   float64\n",
      " 8   mobile_wt      2000 non-null   int64  \n",
      " 9   n_cores        2000 non-null   int64  \n",
      " 10  pc             2000 non-null   int64  \n",
      " 11  px_height      2000 non-null   int64  \n",
      " 12  px_width       2000 non-null   int64  \n",
      " 13  ram            2000 non-null   int64  \n",
      " 14  sc_h           2000 non-null   int64  \n",
      " 15  sc_w           2000 non-null   int64  \n",
      " 16  talk_time      2000 non-null   int64  \n",
      " 17  three_g        2000 non-null   int64  \n",
      " 18  touch_screen   2000 non-null   int64  \n",
      " 19  wifi           2000 non-null   int64  \n",
      " 20  price_range    2000 non-null   int64  \n",
      "dtypes: float64(2), int64(19)\n",
      "memory usage: 328.2 KB\n"
     ]
    }
   ],
   "source": [
    "df.info()"
   ]
  },
  {
   "cell_type": "code",
   "execution_count": 6,
   "metadata": {},
   "outputs": [
    {
     "data": {
      "text/plain": [
       "Index(['battery_power', 'blue', 'clock_speed', 'dual_sim', 'fc', 'four_g',\n",
       "       'int_memory', 'm_dep', 'mobile_wt', 'n_cores', 'pc', 'px_height',\n",
       "       'px_width', 'ram', 'sc_h', 'sc_w', 'talk_time', 'three_g',\n",
       "       'touch_screen', 'wifi', 'price_range'],\n",
       "      dtype='object')"
      ]
     },
     "execution_count": 6,
     "metadata": {},
     "output_type": "execute_result"
    }
   ],
   "source": [
    "df.columns"
   ]
  },
  {
   "cell_type": "code",
   "execution_count": 7,
   "metadata": {},
   "outputs": [
    {
     "data": {
      "text/plain": [
       "battery_power    0\n",
       "blue             0\n",
       "clock_speed      0\n",
       "dual_sim         0\n",
       "fc               0\n",
       "four_g           0\n",
       "int_memory       0\n",
       "m_dep            0\n",
       "mobile_wt        0\n",
       "n_cores          0\n",
       "pc               0\n",
       "px_height        0\n",
       "px_width         0\n",
       "ram              0\n",
       "sc_h             0\n",
       "sc_w             0\n",
       "talk_time        0\n",
       "three_g          0\n",
       "touch_screen     0\n",
       "wifi             0\n",
       "price_range      0\n",
       "dtype: int64"
      ]
     },
     "execution_count": 7,
     "metadata": {},
     "output_type": "execute_result"
    }
   ],
   "source": [
    "df.isna().sum()"
   ]
  },
  {
   "cell_type": "code",
   "execution_count": 8,
   "metadata": {},
   "outputs": [
    {
     "data": {
      "text/plain": [
       "battery_power    1094\n",
       "blue                2\n",
       "clock_speed        26\n",
       "dual_sim            2\n",
       "fc                 20\n",
       "four_g              2\n",
       "int_memory         63\n",
       "m_dep              10\n",
       "mobile_wt         121\n",
       "n_cores             8\n",
       "pc                 21\n",
       "px_height        1137\n",
       "px_width         1109\n",
       "ram              1562\n",
       "sc_h               15\n",
       "sc_w               19\n",
       "talk_time          19\n",
       "three_g             2\n",
       "touch_screen        2\n",
       "wifi                2\n",
       "price_range         4\n",
       "dtype: int64"
      ]
     },
     "execution_count": 8,
     "metadata": {},
     "output_type": "execute_result"
    }
   ],
   "source": [
    "df.nunique()"
   ]
  },
  {
   "cell_type": "code",
   "execution_count": 9,
   "metadata": {},
   "outputs": [
    {
     "data": {
      "text/html": [
       "<div>\n",
       "<style scoped>\n",
       "    .dataframe tbody tr th:only-of-type {\n",
       "        vertical-align: middle;\n",
       "    }\n",
       "\n",
       "    .dataframe tbody tr th {\n",
       "        vertical-align: top;\n",
       "    }\n",
       "\n",
       "    .dataframe thead th {\n",
       "        text-align: right;\n",
       "    }\n",
       "</style>\n",
       "<table border=\"1\" class=\"dataframe\">\n",
       "  <thead>\n",
       "    <tr style=\"text-align: right;\">\n",
       "      <th></th>\n",
       "      <th>count</th>\n",
       "      <th>mean</th>\n",
       "      <th>std</th>\n",
       "      <th>min</th>\n",
       "      <th>25%</th>\n",
       "      <th>50%</th>\n",
       "      <th>75%</th>\n",
       "      <th>max</th>\n",
       "    </tr>\n",
       "  </thead>\n",
       "  <tbody>\n",
       "    <tr>\n",
       "      <th>battery_power</th>\n",
       "      <td>2000.0</td>\n",
       "      <td>1238.51850</td>\n",
       "      <td>439.418206</td>\n",
       "      <td>501.0</td>\n",
       "      <td>851.75</td>\n",
       "      <td>1226.0</td>\n",
       "      <td>1615.25</td>\n",
       "      <td>1998.0</td>\n",
       "    </tr>\n",
       "    <tr>\n",
       "      <th>blue</th>\n",
       "      <td>2000.0</td>\n",
       "      <td>0.49500</td>\n",
       "      <td>0.500100</td>\n",
       "      <td>0.0</td>\n",
       "      <td>0.00</td>\n",
       "      <td>0.0</td>\n",
       "      <td>1.00</td>\n",
       "      <td>1.0</td>\n",
       "    </tr>\n",
       "    <tr>\n",
       "      <th>clock_speed</th>\n",
       "      <td>2000.0</td>\n",
       "      <td>1.52225</td>\n",
       "      <td>0.816004</td>\n",
       "      <td>0.5</td>\n",
       "      <td>0.70</td>\n",
       "      <td>1.5</td>\n",
       "      <td>2.20</td>\n",
       "      <td>3.0</td>\n",
       "    </tr>\n",
       "    <tr>\n",
       "      <th>dual_sim</th>\n",
       "      <td>2000.0</td>\n",
       "      <td>0.50950</td>\n",
       "      <td>0.500035</td>\n",
       "      <td>0.0</td>\n",
       "      <td>0.00</td>\n",
       "      <td>1.0</td>\n",
       "      <td>1.00</td>\n",
       "      <td>1.0</td>\n",
       "    </tr>\n",
       "    <tr>\n",
       "      <th>fc</th>\n",
       "      <td>2000.0</td>\n",
       "      <td>4.30950</td>\n",
       "      <td>4.341444</td>\n",
       "      <td>0.0</td>\n",
       "      <td>1.00</td>\n",
       "      <td>3.0</td>\n",
       "      <td>7.00</td>\n",
       "      <td>19.0</td>\n",
       "    </tr>\n",
       "    <tr>\n",
       "      <th>four_g</th>\n",
       "      <td>2000.0</td>\n",
       "      <td>0.52150</td>\n",
       "      <td>0.499662</td>\n",
       "      <td>0.0</td>\n",
       "      <td>0.00</td>\n",
       "      <td>1.0</td>\n",
       "      <td>1.00</td>\n",
       "      <td>1.0</td>\n",
       "    </tr>\n",
       "    <tr>\n",
       "      <th>int_memory</th>\n",
       "      <td>2000.0</td>\n",
       "      <td>32.04650</td>\n",
       "      <td>18.145715</td>\n",
       "      <td>2.0</td>\n",
       "      <td>16.00</td>\n",
       "      <td>32.0</td>\n",
       "      <td>48.00</td>\n",
       "      <td>64.0</td>\n",
       "    </tr>\n",
       "    <tr>\n",
       "      <th>m_dep</th>\n",
       "      <td>2000.0</td>\n",
       "      <td>0.50175</td>\n",
       "      <td>0.288416</td>\n",
       "      <td>0.1</td>\n",
       "      <td>0.20</td>\n",
       "      <td>0.5</td>\n",
       "      <td>0.80</td>\n",
       "      <td>1.0</td>\n",
       "    </tr>\n",
       "    <tr>\n",
       "      <th>mobile_wt</th>\n",
       "      <td>2000.0</td>\n",
       "      <td>140.24900</td>\n",
       "      <td>35.399655</td>\n",
       "      <td>80.0</td>\n",
       "      <td>109.00</td>\n",
       "      <td>141.0</td>\n",
       "      <td>170.00</td>\n",
       "      <td>200.0</td>\n",
       "    </tr>\n",
       "    <tr>\n",
       "      <th>n_cores</th>\n",
       "      <td>2000.0</td>\n",
       "      <td>4.52050</td>\n",
       "      <td>2.287837</td>\n",
       "      <td>1.0</td>\n",
       "      <td>3.00</td>\n",
       "      <td>4.0</td>\n",
       "      <td>7.00</td>\n",
       "      <td>8.0</td>\n",
       "    </tr>\n",
       "    <tr>\n",
       "      <th>pc</th>\n",
       "      <td>2000.0</td>\n",
       "      <td>9.91650</td>\n",
       "      <td>6.064315</td>\n",
       "      <td>0.0</td>\n",
       "      <td>5.00</td>\n",
       "      <td>10.0</td>\n",
       "      <td>15.00</td>\n",
       "      <td>20.0</td>\n",
       "    </tr>\n",
       "    <tr>\n",
       "      <th>px_height</th>\n",
       "      <td>2000.0</td>\n",
       "      <td>645.10800</td>\n",
       "      <td>443.780811</td>\n",
       "      <td>0.0</td>\n",
       "      <td>282.75</td>\n",
       "      <td>564.0</td>\n",
       "      <td>947.25</td>\n",
       "      <td>1960.0</td>\n",
       "    </tr>\n",
       "    <tr>\n",
       "      <th>px_width</th>\n",
       "      <td>2000.0</td>\n",
       "      <td>1251.51550</td>\n",
       "      <td>432.199447</td>\n",
       "      <td>500.0</td>\n",
       "      <td>874.75</td>\n",
       "      <td>1247.0</td>\n",
       "      <td>1633.00</td>\n",
       "      <td>1998.0</td>\n",
       "    </tr>\n",
       "    <tr>\n",
       "      <th>ram</th>\n",
       "      <td>2000.0</td>\n",
       "      <td>2124.21300</td>\n",
       "      <td>1084.732044</td>\n",
       "      <td>256.0</td>\n",
       "      <td>1207.50</td>\n",
       "      <td>2146.5</td>\n",
       "      <td>3064.50</td>\n",
       "      <td>3998.0</td>\n",
       "    </tr>\n",
       "    <tr>\n",
       "      <th>sc_h</th>\n",
       "      <td>2000.0</td>\n",
       "      <td>12.30650</td>\n",
       "      <td>4.213245</td>\n",
       "      <td>5.0</td>\n",
       "      <td>9.00</td>\n",
       "      <td>12.0</td>\n",
       "      <td>16.00</td>\n",
       "      <td>19.0</td>\n",
       "    </tr>\n",
       "    <tr>\n",
       "      <th>sc_w</th>\n",
       "      <td>2000.0</td>\n",
       "      <td>5.76700</td>\n",
       "      <td>4.356398</td>\n",
       "      <td>0.0</td>\n",
       "      <td>2.00</td>\n",
       "      <td>5.0</td>\n",
       "      <td>9.00</td>\n",
       "      <td>18.0</td>\n",
       "    </tr>\n",
       "    <tr>\n",
       "      <th>talk_time</th>\n",
       "      <td>2000.0</td>\n",
       "      <td>11.01100</td>\n",
       "      <td>5.463955</td>\n",
       "      <td>2.0</td>\n",
       "      <td>6.00</td>\n",
       "      <td>11.0</td>\n",
       "      <td>16.00</td>\n",
       "      <td>20.0</td>\n",
       "    </tr>\n",
       "    <tr>\n",
       "      <th>three_g</th>\n",
       "      <td>2000.0</td>\n",
       "      <td>0.76150</td>\n",
       "      <td>0.426273</td>\n",
       "      <td>0.0</td>\n",
       "      <td>1.00</td>\n",
       "      <td>1.0</td>\n",
       "      <td>1.00</td>\n",
       "      <td>1.0</td>\n",
       "    </tr>\n",
       "    <tr>\n",
       "      <th>touch_screen</th>\n",
       "      <td>2000.0</td>\n",
       "      <td>0.50300</td>\n",
       "      <td>0.500116</td>\n",
       "      <td>0.0</td>\n",
       "      <td>0.00</td>\n",
       "      <td>1.0</td>\n",
       "      <td>1.00</td>\n",
       "      <td>1.0</td>\n",
       "    </tr>\n",
       "    <tr>\n",
       "      <th>wifi</th>\n",
       "      <td>2000.0</td>\n",
       "      <td>0.50700</td>\n",
       "      <td>0.500076</td>\n",
       "      <td>0.0</td>\n",
       "      <td>0.00</td>\n",
       "      <td>1.0</td>\n",
       "      <td>1.00</td>\n",
       "      <td>1.0</td>\n",
       "    </tr>\n",
       "    <tr>\n",
       "      <th>price_range</th>\n",
       "      <td>2000.0</td>\n",
       "      <td>1.50000</td>\n",
       "      <td>1.118314</td>\n",
       "      <td>0.0</td>\n",
       "      <td>0.75</td>\n",
       "      <td>1.5</td>\n",
       "      <td>2.25</td>\n",
       "      <td>3.0</td>\n",
       "    </tr>\n",
       "  </tbody>\n",
       "</table>\n",
       "</div>"
      ],
      "text/plain": [
       "                count        mean          std    min      25%     50%  \\\n",
       "battery_power  2000.0  1238.51850   439.418206  501.0   851.75  1226.0   \n",
       "blue           2000.0     0.49500     0.500100    0.0     0.00     0.0   \n",
       "clock_speed    2000.0     1.52225     0.816004    0.5     0.70     1.5   \n",
       "dual_sim       2000.0     0.50950     0.500035    0.0     0.00     1.0   \n",
       "fc             2000.0     4.30950     4.341444    0.0     1.00     3.0   \n",
       "four_g         2000.0     0.52150     0.499662    0.0     0.00     1.0   \n",
       "int_memory     2000.0    32.04650    18.145715    2.0    16.00    32.0   \n",
       "m_dep          2000.0     0.50175     0.288416    0.1     0.20     0.5   \n",
       "mobile_wt      2000.0   140.24900    35.399655   80.0   109.00   141.0   \n",
       "n_cores        2000.0     4.52050     2.287837    1.0     3.00     4.0   \n",
       "pc             2000.0     9.91650     6.064315    0.0     5.00    10.0   \n",
       "px_height      2000.0   645.10800   443.780811    0.0   282.75   564.0   \n",
       "px_width       2000.0  1251.51550   432.199447  500.0   874.75  1247.0   \n",
       "ram            2000.0  2124.21300  1084.732044  256.0  1207.50  2146.5   \n",
       "sc_h           2000.0    12.30650     4.213245    5.0     9.00    12.0   \n",
       "sc_w           2000.0     5.76700     4.356398    0.0     2.00     5.0   \n",
       "talk_time      2000.0    11.01100     5.463955    2.0     6.00    11.0   \n",
       "three_g        2000.0     0.76150     0.426273    0.0     1.00     1.0   \n",
       "touch_screen   2000.0     0.50300     0.500116    0.0     0.00     1.0   \n",
       "wifi           2000.0     0.50700     0.500076    0.0     0.00     1.0   \n",
       "price_range    2000.0     1.50000     1.118314    0.0     0.75     1.5   \n",
       "\n",
       "                   75%     max  \n",
       "battery_power  1615.25  1998.0  \n",
       "blue              1.00     1.0  \n",
       "clock_speed       2.20     3.0  \n",
       "dual_sim          1.00     1.0  \n",
       "fc                7.00    19.0  \n",
       "four_g            1.00     1.0  \n",
       "int_memory       48.00    64.0  \n",
       "m_dep             0.80     1.0  \n",
       "mobile_wt       170.00   200.0  \n",
       "n_cores           7.00     8.0  \n",
       "pc               15.00    20.0  \n",
       "px_height       947.25  1960.0  \n",
       "px_width       1633.00  1998.0  \n",
       "ram            3064.50  3998.0  \n",
       "sc_h             16.00    19.0  \n",
       "sc_w              9.00    18.0  \n",
       "talk_time        16.00    20.0  \n",
       "three_g           1.00     1.0  \n",
       "touch_screen      1.00     1.0  \n",
       "wifi              1.00     1.0  \n",
       "price_range       2.25     3.0  "
      ]
     },
     "execution_count": 9,
     "metadata": {},
     "output_type": "execute_result"
    }
   ],
   "source": [
    "df.describe().T"
   ]
  },
  {
   "cell_type": "code",
   "execution_count": 10,
   "metadata": {},
   "outputs": [
    {
     "data": {
      "image/png": "[encoded data removed]",
      "text/plain": [
       "<Figure size 720x576 with 2 Axes>"
      ]
     },
     "metadata": {
      "needs_background": "light"
     },
     "output_type": "display_data"
    }
   ],
   "source": [
    "\n",
    "plt.figure(figsize=(10,8))\n",
    "corr_heatmap = sns.heatmap(abs(df.corr()).round(1),annot=True)\n",
    "plt.show()"
   ]
  },
  {
   "cell_type": "code",
   "execution_count": 11,
   "metadata": {},
   "outputs": [
    {
     "data": {
      "text/plain": [
       "<matplotlib.axes._subplots.AxesSubplot at 0x7febcff88eb0>"
      ]
     },
     "execution_count": 11,
     "metadata": {},
     "output_type": "execute_result"
    },
    {
     "data": {
      "image/png": "[encoded data removed]",
      "text/plain": [
       "<Figure size 1440x720 with 2 Axes>"
      ]
     },
     "metadata": {
      "needs_background": "light"
     },
     "output_type": "display_data"
    }
   ],
   "source": [
    "plt.figure(figsize=(20,10))\n",
    "\n",
    "sns.heatmap(abs(df.corr()),annot=True)\n"
   ]
  },
  {
   "cell_type": "markdown",
   "metadata": {},
   "source": [
    "The dataset has:\n",
    "    - rawas: 2000, columns: 21\n",
    "    - there are not null values\n",
    "    - multicollinearity looks ok except for 'three_g & four_g' and 'pc & fc'"
   ]
  },
  {
   "cell_type": "markdown",
   "metadata": {},
   "source": [
    "# Exploratory Analysis"
   ]
  },
  {
   "cell_type": "code",
   "execution_count": null,
   "metadata": {},
   "outputs": [],
   "source": []
  },
  {
   "cell_type": "code",
   "execution_count": 12,
   "metadata": {},
   "outputs": [
    {
     "data": {
      "text/plain": [
       "<matplotlib.axes._subplots.AxesSubplot at 0x7febd1c11e20>"
      ]
     },
     "execution_count": 12,
     "metadata": {},
     "output_type": "execute_result"
    },
    {
     "data": {
      "image/png": "[encoded data removed]",
      "text/plain": [
       "<Figure size 432x288 with 1 Axes>"
      ]
     },
     "metadata": {
      "needs_background": "light"
     },
     "output_type": "display_data"
    }
   ],
   "source": [
    "# library & dataset\n",
    "import seaborn as sns\n",
    "sns.boxplot( x=df[\"price_range\"], y=df[\"battery_power\"],palette=\"Blues\" )\n",
    "#sns.plt.show()\n"
   ]
  },
  {
   "cell_type": "code",
   "execution_count": 13,
   "metadata": {},
   "outputs": [
    {
     "data": {
      "text/plain": [
       "<matplotlib.axes._subplots.AxesSubplot at 0x7febd1c7a5e0>"
      ]
     },
     "execution_count": 13,
     "metadata": {},
     "output_type": "execute_result"
    },
    {
     "data": {
      "image/png": "[encoded data removed]",
      "text/plain": [
       "<Figure size 432x288 with 1 Axes>"
      ]
     },
     "metadata": {
      "needs_background": "light"
     },
     "output_type": "display_data"
    }
   ],
   "source": [
    "# library & dataset\n",
    "import seaborn as sns\n",
    "sns.boxplot( x=df[\"price_range\"], y=df[\"ram\"],palette=\"Purples\" )\n",
    "#sns.plt.show()\n"
   ]
  },
  {
   "cell_type": "code",
   "execution_count": 14,
   "metadata": {},
   "outputs": [
    {
     "data": {
      "text/plain": [
       "<matplotlib.axes._subplots.AxesSubplot at 0x7febd21e9e50>"
      ]
     },
     "execution_count": 14,
     "metadata": {},
     "output_type": "execute_result"
    },
    {
     "data": {
      "image/png": "[encoded data removed]",
      "text/plain": [
       "<Figure size 432x288 with 1 Axes>"
      ]
     },
     "metadata": {
      "needs_background": "light"
     },
     "output_type": "display_data"
    }
   ],
   "source": [
    "import seaborn as sns\n",
    "sns.boxplot( x=df[\"price_range\"], y=df[\"clock_speed\"],palette=\"Oranges\" )\n",
    "#sns.plt.show()"
   ]
  },
  {
   "cell_type": "code",
   "execution_count": 15,
   "metadata": {},
   "outputs": [
    {
     "data": {
      "text/plain": [
       "<matplotlib.axes._subplots.AxesSubplot at 0x7febd1c6b400>"
      ]
     },
     "execution_count": 15,
     "metadata": {},
     "output_type": "execute_result"
    },
    {
     "data": {
      "image/png": "[encoded data removed]",
      "text/plain": [
       "<Figure size 432x288 with 1 Axes>"
      ]
     },
     "metadata": {
      "needs_background": "light"
     },
     "output_type": "display_data"
    }
   ],
   "source": [
    "import seaborn as sns\n",
    "sns.boxplot( x=df[\"price_range\"], y=df[\"int_memory\"],palette=\"Greens\" )\n",
    "#sns.plt.show()"
   ]
  },
  {
   "cell_type": "code",
   "execution_count": null,
   "metadata": {},
   "outputs": [],
   "source": []
  },
  {
   "cell_type": "markdown",
   "metadata": {},
   "source": [
    "Mobile phones in the higher price ranges have better features in terms of battery power and ram"
   ]
  },
  {
   "cell_type": "markdown",
   "metadata": {},
   "source": [
    "# Modeling Part"
   ]
  },
  {
   "cell_type": "markdown",
   "metadata": {},
   "source": [
    ">Machine Learning: learn from data via recognizing patterns, to make predictions or decisions\n",
    ">>Supervised Learning: we have training data for which we know the class or value of the output\n",
    ">>>Classification: multi-class classification problem. In these cases, our outcome is discrete: it can only take certain values, whether these values be integers (counting numbers: 1, 2, 3..) or classes (dog, cat, bird). "
   ]
  },
  {
   "cell_type": "code",
   "execution_count": 16,
   "metadata": {},
   "outputs": [],
   "source": [
    "X=df.drop('price_range',axis=1)"
   ]
  },
  {
   "cell_type": "code",
   "execution_count": 17,
   "metadata": {},
   "outputs": [],
   "source": [
    "X_train,X_test,y_train,y_test = train_test_split(\n",
    "df.drop('price_range',axis=1),\n",
    "df.price_range,\n",
    "test_size=1/3,\n",
    "random_state=42,\n",
    "stratify = df.price_range\n",
    ")"
   ]
  },
  {
   "cell_type": "code",
   "execution_count": 18,
   "metadata": {},
   "outputs": [
    {
     "data": {
      "text/plain": [
       "3    0.25\n",
       "2    0.25\n",
       "1    0.25\n",
       "0    0.25\n",
       "Name: price_range, dtype: float64"
      ]
     },
     "execution_count": 18,
     "metadata": {},
     "output_type": "execute_result"
    }
   ],
   "source": [
    "df.price_range.value_counts(normalize=True)"
   ]
  },
  {
   "cell_type": "code",
   "execution_count": 19,
   "metadata": {},
   "outputs": [
    {
     "data": {
      "text/plain": [
       "1    0.250563\n",
       "3    0.249812\n",
       "2    0.249812\n",
       "0    0.249812\n",
       "Name: price_range, dtype: float64"
      ]
     },
     "execution_count": 19,
     "metadata": {},
     "output_type": "execute_result"
    }
   ],
   "source": [
    "y_train.value_counts(normalize=True)"
   ]
  },
  {
   "cell_type": "code",
   "execution_count": 20,
   "metadata": {},
   "outputs": [
    {
     "data": {
      "text/plain": [
       "3    0.250375\n",
       "2    0.250375\n",
       "0    0.250375\n",
       "1    0.248876\n",
       "Name: price_range, dtype: float64"
      ]
     },
     "execution_count": 20,
     "metadata": {},
     "output_type": "execute_result"
    }
   ],
   "source": [
    "y_test.value_counts(normalize=True)"
   ]
  },
  {
   "cell_type": "code",
   "execution_count": null,
   "metadata": {},
   "outputs": [],
   "source": []
  },
  {
   "cell_type": "markdown",
   "metadata": {},
   "source": [
    "# Models"
   ]
  },
  {
   "cell_type": "markdown",
   "metadata": {},
   "source": [
    "## Logistic Regression"
   ]
  },
  {
   "cell_type": "code",
   "execution_count": 21,
   "metadata": {},
   "outputs": [
    {
     "data": {
      "text/plain": [
       "StandardScaler()"
      ]
     },
     "execution_count": 21,
     "metadata": {},
     "output_type": "execute_result"
    }
   ],
   "source": [
    "scaler=StandardScaler()\n",
    "scaler.fit(X_train)"
   ]
  },
  {
   "cell_type": "code",
   "execution_count": 22,
   "metadata": {},
   "outputs": [],
   "source": [
    "X_train1=scaler.transform(X_train)\n",
    "X_test1=scaler.transform(X_test)"
   ]
  },
  {
   "cell_type": "markdown",
   "metadata": {},
   "source": [
    "# Models"
   ]
  },
  {
   "cell_type": "code",
   "execution_count": 23,
   "metadata": {},
   "outputs": [
    {
     "data": {
      "text/plain": [
       "array([[163,   4,   0,   0],\n",
       "       [  1, 161,   4,   0],\n",
       "       [  0,   8, 154,   5],\n",
       "       [  0,   0,   5, 162]])"
      ]
     },
     "metadata": {},
     "output_type": "display_data"
    },
    {
     "name": "stdout",
     "output_type": "stream",
     "text": [
      "Precision Score :  0.9598458583719549\n",
      "Recall Score :  0.95952023988006\n",
      "F1 Score :  0.9595349951915543\n",
      "Accuracy Score :  0.95952023988006\n"
     ]
    },
    {
     "name": "stderr",
     "output_type": "stream",
     "text": [
      "/opt/anaconda3/lib/python3.8/site-packages/sklearn/metrics/_classification.py:1267: UserWarning: Note that pos_label (set to 'positive') is ignored when average != 'binary' (got 'macro'). You may use labels=[pos_label] to specify a single positive class.\n",
      "  warnings.warn(\"Note that pos_label (set to %r) is ignored when \"\n"
     ]
    }
   ],
   "source": [
    "model1=LogisticRegression(solver='lbfgs',class_weight='balanced', max_iter=10000)\n",
    "model1.fit(X_train1,y_train)\n",
    "y_pred1=model1.predict(X_test1)\n",
    "confusion_matrix(y_test, y_pred1)\n",
    "display(confusion_matrix(y_test, y_pred1))\n",
    "print(\"Precision Score : \",precision_score(y_test,y_pred1,pos_label='positive', average='macro'))\n",
    "print(\"Recall Score : \",accuracy_score(y_test,y_pred1))\n",
    "print(\"F1 Score : \",f1_score(y_test, y_pred1,average='macro'))\n",
    "print(\"Accuracy Score : \" ,accuracy_score(y_test, y_pred1))"
   ]
  },
  {
   "cell_type": "code",
   "execution_count": null,
   "metadata": {},
   "outputs": [],
   "source": []
  },
  {
   "cell_type": "code",
   "execution_count": null,
   "metadata": {},
   "outputs": [],
   "source": []
  },
  {
   "cell_type": "code",
   "execution_count": 24,
   "metadata": {},
   "outputs": [
    {
     "data": {
      "text/plain": [
       "array([[163,   4,   0,   0],\n",
       "       [  1, 161,   4,   0],\n",
       "       [  0,   8, 154,   5],\n",
       "       [  0,   0,   5, 162]])"
      ]
     },
     "metadata": {},
     "output_type": "display_data"
    },
    {
     "name": "stdout",
     "output_type": "stream",
     "text": [
      "Precision Score :  0.9598458583719549\n",
      "Recall Score :  0.95952023988006\n",
      "F1 Score :  0.9595349951915543\n",
      "Accuracy Score :  0.95952023988006\n"
     ]
    }
   ],
   "source": [
    "display(confusion_matrix(y_test, y_pred1))\n",
    "print(\"Precision Score : \",precision_score(y_test,y_pred1,pos_label='positive', average='macro'))\n",
    "print(\"Recall Score : \",accuracy_score(y_test,y_pred1))\n",
    "print(\"F1 Score : \",f1_score(y_test, y_pred1,average='macro'))\n",
    "print(\"Accuracy Score : \" ,accuracy_score(y_test, y_pred1))"
   ]
  },
  {
   "cell_type": "code",
   "execution_count": 25,
   "metadata": {},
   "outputs": [
    {
     "data": {
      "text/plain": [
       "Text(33.0, 0.5, 'Actual Output')"
      ]
     },
     "execution_count": 25,
     "metadata": {},
     "output_type": "execute_result"
    },
    {
     "data": {
      "image/png": "[encoded data removed]",
      "text/plain": [
       "<Figure size 432x288 with 2 Axes>"
      ]
     },
     "metadata": {
      "needs_background": "light"
     },
     "output_type": "display_data"
    }
   ],
   "source": [
    "cm= confusion_matrix(y_test,y_pred1)\n",
    "ax=sns.heatmap(cm, annot=True, fmt=\"0\", annot_kws={\"size\":20})\n",
    "plt.xlabel('Predicted Output', fontsize=20)\n",
    "plt.ylabel('Actual Output', fontsize=20)"
   ]
  },
  {
   "cell_type": "code",
   "execution_count": 26,
   "metadata": {},
   "outputs": [
    {
     "data": {
      "text/html": [
       "<div>\n",
       "<style scoped>\n",
       "    .dataframe tbody tr th:only-of-type {\n",
       "        vertical-align: middle;\n",
       "    }\n",
       "\n",
       "    .dataframe tbody tr th {\n",
       "        vertical-align: top;\n",
       "    }\n",
       "\n",
       "    .dataframe thead th {\n",
       "        text-align: right;\n",
       "    }\n",
       "</style>\n",
       "<table border=\"1\" class=\"dataframe\">\n",
       "  <thead>\n",
       "    <tr style=\"text-align: right;\">\n",
       "      <th></th>\n",
       "      <th>0</th>\n",
       "      <th>1</th>\n",
       "      <th>2</th>\n",
       "      <th>3</th>\n",
       "    </tr>\n",
       "  </thead>\n",
       "  <tbody>\n",
       "    <tr>\n",
       "      <th>battery_power</th>\n",
       "      <td>-2.570400</td>\n",
       "      <td>-0.787413</td>\n",
       "      <td>0.768220</td>\n",
       "      <td>2.589593</td>\n",
       "    </tr>\n",
       "    <tr>\n",
       "      <th>blue</th>\n",
       "      <td>0.041060</td>\n",
       "      <td>0.014124</td>\n",
       "      <td>-0.008094</td>\n",
       "      <td>-0.047090</td>\n",
       "    </tr>\n",
       "    <tr>\n",
       "      <th>clock_speed</th>\n",
       "      <td>0.035909</td>\n",
       "      <td>-0.106560</td>\n",
       "      <td>-0.015259</td>\n",
       "      <td>0.085910</td>\n",
       "    </tr>\n",
       "    <tr>\n",
       "      <th>dual_sim</th>\n",
       "      <td>0.124280</td>\n",
       "      <td>0.044244</td>\n",
       "      <td>-0.109869</td>\n",
       "      <td>-0.058655</td>\n",
       "    </tr>\n",
       "    <tr>\n",
       "      <th>fc</th>\n",
       "      <td>0.011988</td>\n",
       "      <td>0.034412</td>\n",
       "      <td>-0.000110</td>\n",
       "      <td>-0.046290</td>\n",
       "    </tr>\n",
       "    <tr>\n",
       "      <th>four_g</th>\n",
       "      <td>-0.001873</td>\n",
       "      <td>0.013783</td>\n",
       "      <td>-0.065475</td>\n",
       "      <td>0.053564</td>\n",
       "    </tr>\n",
       "    <tr>\n",
       "      <th>int_memory</th>\n",
       "      <td>-0.178856</td>\n",
       "      <td>-0.048882</td>\n",
       "      <td>-0.015604</td>\n",
       "      <td>0.243342</td>\n",
       "    </tr>\n",
       "    <tr>\n",
       "      <th>m_dep</th>\n",
       "      <td>0.036630</td>\n",
       "      <td>0.092902</td>\n",
       "      <td>-0.068283</td>\n",
       "      <td>-0.061249</td>\n",
       "    </tr>\n",
       "    <tr>\n",
       "      <th>mobile_wt</th>\n",
       "      <td>0.376551</td>\n",
       "      <td>0.116142</td>\n",
       "      <td>-0.011002</td>\n",
       "      <td>-0.481690</td>\n",
       "    </tr>\n",
       "    <tr>\n",
       "      <th>n_cores</th>\n",
       "      <td>-0.075054</td>\n",
       "      <td>-0.090388</td>\n",
       "      <td>0.050155</td>\n",
       "      <td>0.115287</td>\n",
       "    </tr>\n",
       "    <tr>\n",
       "      <th>pc</th>\n",
       "      <td>-0.001891</td>\n",
       "      <td>-0.080659</td>\n",
       "      <td>0.016636</td>\n",
       "      <td>0.065914</td>\n",
       "    </tr>\n",
       "    <tr>\n",
       "      <th>px_height</th>\n",
       "      <td>-1.460816</td>\n",
       "      <td>-0.448714</td>\n",
       "      <td>0.466929</td>\n",
       "      <td>1.442602</td>\n",
       "    </tr>\n",
       "    <tr>\n",
       "      <th>px_width</th>\n",
       "      <td>-1.502927</td>\n",
       "      <td>-0.485355</td>\n",
       "      <td>0.408750</td>\n",
       "      <td>1.579533</td>\n",
       "    </tr>\n",
       "    <tr>\n",
       "      <th>ram</th>\n",
       "      <td>-10.237599</td>\n",
       "      <td>-3.171542</td>\n",
       "      <td>3.197684</td>\n",
       "      <td>10.211458</td>\n",
       "    </tr>\n",
       "    <tr>\n",
       "      <th>sc_h</th>\n",
       "      <td>-0.086741</td>\n",
       "      <td>-0.068998</td>\n",
       "      <td>-0.057623</td>\n",
       "      <td>0.213361</td>\n",
       "    </tr>\n",
       "    <tr>\n",
       "      <th>sc_w</th>\n",
       "      <td>-0.011891</td>\n",
       "      <td>-0.042716</td>\n",
       "      <td>0.043683</td>\n",
       "      <td>0.010924</td>\n",
       "    </tr>\n",
       "    <tr>\n",
       "      <th>talk_time</th>\n",
       "      <td>-0.092471</td>\n",
       "      <td>-0.027431</td>\n",
       "      <td>0.027383</td>\n",
       "      <td>0.092519</td>\n",
       "    </tr>\n",
       "    <tr>\n",
       "      <th>three_g</th>\n",
       "      <td>-0.013766</td>\n",
       "      <td>-0.047998</td>\n",
       "      <td>0.030108</td>\n",
       "      <td>0.031656</td>\n",
       "    </tr>\n",
       "    <tr>\n",
       "      <th>touch_screen</th>\n",
       "      <td>0.111774</td>\n",
       "      <td>0.058502</td>\n",
       "      <td>-0.141963</td>\n",
       "      <td>-0.028312</td>\n",
       "    </tr>\n",
       "    <tr>\n",
       "      <th>wifi</th>\n",
       "      <td>0.214787</td>\n",
       "      <td>0.007387</td>\n",
       "      <td>-0.082250</td>\n",
       "      <td>-0.139924</td>\n",
       "    </tr>\n",
       "  </tbody>\n",
       "</table>\n",
       "</div>"
      ],
      "text/plain": [
       "                       0         1         2          3\n",
       "battery_power  -2.570400 -0.787413  0.768220   2.589593\n",
       "blue            0.041060  0.014124 -0.008094  -0.047090\n",
       "clock_speed     0.035909 -0.106560 -0.015259   0.085910\n",
       "dual_sim        0.124280  0.044244 -0.109869  -0.058655\n",
       "fc              0.011988  0.034412 -0.000110  -0.046290\n",
       "four_g         -0.001873  0.013783 -0.065475   0.053564\n",
       "int_memory     -0.178856 -0.048882 -0.015604   0.243342\n",
       "m_dep           0.036630  0.092902 -0.068283  -0.061249\n",
       "mobile_wt       0.376551  0.116142 -0.011002  -0.481690\n",
       "n_cores        -0.075054 -0.090388  0.050155   0.115287\n",
       "pc             -0.001891 -0.080659  0.016636   0.065914\n",
       "px_height      -1.460816 -0.448714  0.466929   1.442602\n",
       "px_width       -1.502927 -0.485355  0.408750   1.579533\n",
       "ram           -10.237599 -3.171542  3.197684  10.211458\n",
       "sc_h           -0.086741 -0.068998 -0.057623   0.213361\n",
       "sc_w           -0.011891 -0.042716  0.043683   0.010924\n",
       "talk_time      -0.092471 -0.027431  0.027383   0.092519\n",
       "three_g        -0.013766 -0.047998  0.030108   0.031656\n",
       "touch_screen    0.111774  0.058502 -0.141963  -0.028312\n",
       "wifi            0.214787  0.007387 -0.082250  -0.139924"
      ]
     },
     "execution_count": 26,
     "metadata": {},
     "output_type": "execute_result"
    }
   ],
   "source": [
    "pd.DataFrame(model1.coef_, columns=X.columns).T"
   ]
  },
  {
   "cell_type": "code",
   "execution_count": null,
   "metadata": {},
   "outputs": [],
   "source": []
  },
  {
   "cell_type": "code",
   "execution_count": 27,
   "metadata": {},
   "outputs": [
    {
     "ename": "NameError",
     "evalue": "name 'model3' is not defined",
     "output_type": "error",
     "traceback": [
      "\u001b[0;31m---------------------------------------------------------------------------\u001b[0m",
      "\u001b[0;31mNameError\u001b[0m                                 Traceback (most recent call last)",
      "\u001b[0;32m<ipython-input-27-641cd36f7674>\u001b[0m in \u001b[0;36m<module>\u001b[0;34m\u001b[0m\n\u001b[0;32m----> 1\u001b[0;31m \u001b[0mpd\u001b[0m\u001b[0;34m.\u001b[0m\u001b[0mDataFrame\u001b[0m\u001b[0;34m(\u001b[0m\u001b[0mmodel3\u001b[0m\u001b[0;34m.\u001b[0m\u001b[0mcoef_\u001b[0m\u001b[0;34m,\u001b[0m \u001b[0mcolumns\u001b[0m\u001b[0;34m=\u001b[0m\u001b[0mX\u001b[0m\u001b[0;34m.\u001b[0m\u001b[0mcolumns\u001b[0m\u001b[0;34m)\u001b[0m\u001b[0;34m.\u001b[0m\u001b[0mT\u001b[0m\u001b[0;34m\u001b[0m\u001b[0;34m\u001b[0m\u001b[0m\n\u001b[0m",
      "\u001b[0;31mNameError\u001b[0m: name 'model3' is not defined"
     ]
    }
   ],
   "source": [
    "pd.DataFrame(model3.coef_, columns=X.columns).T"
   ]
  },
  {
   "cell_type": "markdown",
   "metadata": {},
   "source": [
    "# KNN\n",
    "\n"
   ]
  },
  {
   "cell_type": "markdown",
   "metadata": {},
   "source": [
    "##### K-Nearest Neighbors"
   ]
  },
  {
   "cell_type": "code",
   "execution_count": 28,
   "metadata": {},
   "outputs": [
    {
     "data": {
      "text/plain": [
       "array([[  0,   0,   0, 167],\n",
       "       [  0,   0,   0, 166],\n",
       "       [  0,   0,   0, 167],\n",
       "       [  0,   0,   0, 167]])"
      ]
     },
     "metadata": {},
     "output_type": "display_data"
    },
    {
     "name": "stdout",
     "output_type": "stream",
     "text": [
      "Accuracy score:  0.25037481259370314\n",
      "Precision score:  0.25037481259370314\n",
      "Recall score:  0.25037481259370314\n",
      "F1_score :  0.25037481259370314\n"
     ]
    }
   ],
   "source": [
    "model2=KNeighborsClassifier(7)\n",
    "model2.fit(X_train1,y_train)\n",
    "y_pred2=model2.predict(X_test)\n",
    "display(confusion_matrix(y_test,y_pred2))\n",
    "print(\"Accuracy score: \", accuracy_score(y_test,y_pred2))\n",
    "print(\"Precision score: \", precision_score(y_test,y_pred2,average='micro'))\n",
    "print(\"Recall score: \", recall_score(y_test,y_pred2,average='micro'))\n",
    "print(\"F1_score : \", f1_score(y_test,y_pred2,average='micro'))"
   ]
  },
  {
   "cell_type": "markdown",
   "metadata": {},
   "source": [
    "# SVM"
   ]
  },
  {
   "cell_type": "markdown",
   "metadata": {},
   "source": [
    "##### Support Vector Machine"
   ]
  },
  {
   "cell_type": "code",
   "execution_count": 29,
   "metadata": {},
   "outputs": [
    {
     "data": {
      "text/plain": [
       "array([[164,   3,   0,   0],\n",
       "       [  3, 162,   1,   0],\n",
       "       [  0,   9, 155,   3],\n",
       "       [  0,   0,   9, 158]])"
      ]
     },
     "metadata": {},
     "output_type": "display_data"
    }
   ],
   "source": [
    "model3=SVC()\n",
    "model3.fit(X_train,y_train)\n",
    "y_pred3=model3.predict(X_test)\n",
    "display(confusion_matrix(y_test,y_pred3))\n"
   ]
  },
  {
   "cell_type": "code",
   "execution_count": 30,
   "metadata": {},
   "outputs": [
    {
     "name": "stdout",
     "output_type": "stream",
     "text": [
      "Accuracy score:  0.9580209895052474\n",
      "Precision score:  0.9584577024809005\n",
      "Recall score:  0.958047759901883\n",
      "F1_score:  0.9580316696299196\n"
     ]
    }
   ],
   "source": [
    "print(\"Accuracy score: \",accuracy_score(y_test,y_pred3))\n",
    "print(\"Precision score: \",precision_score(y_test,y_pred3,average='macro'))\n",
    "print(\"Recall score: \", recall_score(y_test,y_pred3,average='macro'))\n",
    "print(\"F1_score: \", f1_score(y_test,y_pred3,average='macro'))"
   ]
  },
  {
   "cell_type": "markdown",
   "metadata": {},
   "source": [
    "# GaussianNB"
   ]
  },
  {
   "cell_type": "markdown",
   "metadata": {},
   "source": [
    "#####  Gaussian Naive Bayes Implementation"
   ]
  },
  {
   "cell_type": "code",
   "execution_count": 31,
   "metadata": {},
   "outputs": [
    {
     "data": {
      "text/plain": [
       "array([[153,  14,   0,   0],\n",
       "       [ 11, 118,  37,   0],\n",
       "       [  0,  31, 117,  19],\n",
       "       [  0,   1,  16, 150]])"
      ]
     },
     "metadata": {},
     "output_type": "display_data"
    }
   ],
   "source": [
    "model4=GaussianNB()\n",
    "model4.fit(X_train,y_train)\n",
    "y_pred4=model4.predict(X_test)\n",
    "display(confusion_matrix(y_test,y_pred4))"
   ]
  },
  {
   "cell_type": "code",
   "execution_count": 32,
   "metadata": {},
   "outputs": [
    {
     "name": "stdout",
     "output_type": "stream",
     "text": [
      "Accuracy score:  0.8065967016491754\n",
      "Precision score:  0.8070620707512332\n",
      "Recall score:  0.8064533583435538\n",
      "F1_score:  0.806710493726617\n"
     ]
    }
   ],
   "source": [
    "print(\"Accuracy score: \",accuracy_score(y_test,y_pred4))\n",
    "print(\"Precision score: \",precision_score(y_test,y_pred4,average='macro'))\n",
    "print(\"Recall score: \", recall_score(y_test,y_pred4,average='macro'))\n",
    "print(\"F1_score: \", f1_score(y_test,y_pred4,average='macro'))"
   ]
  },
  {
   "cell_type": "markdown",
   "metadata": {},
   "source": [
    "# Decision Tree"
   ]
  },
  {
   "cell_type": "code",
   "execution_count": 33,
   "metadata": {},
   "outputs": [
    {
     "data": {
      "text/plain": [
       "array([[152,  15,   0,   0],\n",
       "       [ 14, 129,  22,   1],\n",
       "       [  0,  16, 130,  21],\n",
       "       [  0,   0,  30, 137]])"
      ]
     },
     "metadata": {},
     "output_type": "display_data"
    }
   ],
   "source": [
    "model5=DecisionTreeClassifier()\n",
    "model5.fit(X_train,y_train)\n",
    "y_pred5=model5.predict(X_test)\n",
    "display(confusion_matrix(y_test,y_pred5))\n"
   ]
  },
  {
   "cell_type": "code",
   "execution_count": 34,
   "metadata": {},
   "outputs": [
    {
     "name": "stdout",
     "output_type": "stream",
     "text": [
      "Accuracy score:  0.8215892053973014\n",
      "Precision score:  0.8244583962534775\n",
      "Recall score:  0.8215226174157709\n",
      "F1_score:  0.8224501066890366\n"
     ]
    }
   ],
   "source": [
    "print(\"Accuracy score: \",accuracy_score(y_test,y_pred5))\n",
    "print(\"Precision score: \",precision_score(y_test,y_pred5,average='macro'))\n",
    "print(\"Recall score: \", recall_score(y_test,y_pred5,average='macro'))\n",
    "print(\"F1_score: \", f1_score(y_test,y_pred5,average='macro'))"
   ]
  },
  {
   "cell_type": "markdown",
   "metadata": {},
   "source": [
    "# Random Forest"
   ]
  },
  {
   "cell_type": "code",
   "execution_count": 35,
   "metadata": {},
   "outputs": [
    {
     "data": {
      "text/plain": [
       "array([[159,   8,   0,   0],\n",
       "       [  7, 142,  17,   0],\n",
       "       [  0,  23, 132,  12],\n",
       "       [  0,   0,  15, 152]])"
      ]
     },
     "metadata": {},
     "output_type": "display_data"
    }
   ],
   "source": [
    "model6=RandomForestClassifier()\n",
    "model6.fit(X_train, y_train)\n",
    "y_pred6 = model6.predict(X_test)\n",
    "display(confusion_matrix(y_test, y_pred6))"
   ]
  },
  {
   "cell_type": "code",
   "execution_count": 36,
   "metadata": {},
   "outputs": [
    {
     "name": "stdout",
     "output_type": "stream",
     "text": [
      "Accuracy score:  0.8770614692653673\n",
      "Precision score:  0.8775869727323222\n",
      "Recall score:  0.8770290743813578\n",
      "F1_score:  0.8771812879103739\n"
     ]
    }
   ],
   "source": [
    "print(\"Accuracy score: \",accuracy_score(y_test,y_pred6))\n",
    "print(\"Precision score: \",precision_score(y_test,y_pred6,average='macro'))\n",
    "print(\"Recall score: \", recall_score(y_test,y_pred6,average='macro'))\n",
    "print(\"F1_score: \", f1_score(y_test,y_pred6,average='macro'))"
   ]
  },
  {
   "cell_type": "code",
   "execution_count": 37,
   "metadata": {},
   "outputs": [
    {
     "name": "stdout",
     "output_type": "stream",
     "text": [
      "Accuracy score:  0.8770614692653673\n",
      "Precision score:  0.8775869727323222\n",
      "Recall score:  0.8770290743813578\n",
      "F1_score:  0.8771812879103739\n"
     ]
    }
   ],
   "source": [
    "print(\"Accuracy score: \",accuracy_score(y_test,y_pred6))\n",
    "print(\"Precision score: \",precision_score(y_test,y_pred6,average='macro'))\n",
    "print(\"Recall score: \", recall_score(y_test,y_pred6,average='macro'))\n",
    "print(\"F1_score: \", f1_score(y_test,y_pred6,average='macro'))"
   ]
  },
  {
   "cell_type": "markdown",
   "metadata": {},
   "source": [
    "# AdaBoost"
   ]
  },
  {
   "cell_type": "code",
   "execution_count": 38,
   "metadata": {},
   "outputs": [],
   "source": [
    "model7=AdaBoostClassifier()\n",
    "model7.fit(X_train, y_train)\n",
    "y_pred7 = model7.predict(X_test)\n"
   ]
  },
  {
   "cell_type": "code",
   "execution_count": 39,
   "metadata": {},
   "outputs": [
    {
     "name": "stdout",
     "output_type": "stream",
     "text": [
      "Accuracy score:  0.6446776611694153\n",
      "Precision score:  0.7331022927689594\n",
      "Recall score:  0.6449029651540292\n",
      "F1_score:  0.6416720627436887\n"
     ]
    }
   ],
   "source": [
    "print(\"Accuracy score: \",accuracy_score(y_test,y_pred7))\n",
    "print(\"Precision score: \",precision_score(y_test,y_pred7,average='macro'))\n",
    "print(\"Recall score: \", recall_score(y_test,y_pred7,average='macro'))\n",
    "print(\"F1_score: \", f1_score(y_test,y_pred7,average='macro'))"
   ]
  },
  {
   "cell_type": "markdown",
   "metadata": {},
   "source": [
    "# CatBoost"
   ]
  },
  {
   "cell_type": "code",
   "execution_count": 42,
   "metadata": {},
   "outputs": [
    {
     "name": "stdout",
     "output_type": "stream",
     "text": [
      "Learning rate set to 0.080295\n",
      "0:\tlearn: 1.2835835\ttotal: 20.9ms\tremaining: 20.8s\n",
      "1:\tlearn: 1.1987105\ttotal: 28.7ms\tremaining: 14.3s\n",
      "2:\tlearn: 1.1271622\ttotal: 42.2ms\tremaining: 14s\n",
      "3:\tlearn: 1.0690878\ttotal: 59.3ms\tremaining: 14.8s\n",
      "4:\tlearn: 1.0092913\ttotal: 66.8ms\tremaining: 13.3s\n",
      "5:\tlearn: 0.9473099\ttotal: 72.6ms\tremaining: 12s\n",
      "6:\tlearn: 0.8997709\ttotal: 79.1ms\tremaining: 11.2s\n",
      "7:\tlearn: 0.8577421\ttotal: 88.2ms\tremaining: 10.9s\n",
      "8:\tlearn: 0.8185971\ttotal: 92.6ms\tremaining: 10.2s\n",
      "9:\tlearn: 0.7855083\ttotal: 96.8ms\tremaining: 9.58s\n",
      "10:\tlearn: 0.7499695\ttotal: 102ms\tremaining: 9.15s\n",
      "11:\tlearn: 0.7148885\ttotal: 106ms\tremaining: 8.76s\n",
      "12:\tlearn: 0.6902731\ttotal: 112ms\tremaining: 8.52s\n",
      "13:\tlearn: 0.6664096\ttotal: 118ms\tremaining: 8.31s\n",
      "14:\tlearn: 0.6448187\ttotal: 122ms\tremaining: 8.02s\n",
      "15:\tlearn: 0.6262293\ttotal: 128ms\tremaining: 7.88s\n",
      "16:\tlearn: 0.6128787\ttotal: 132ms\tremaining: 7.63s\n",
      "17:\tlearn: 0.5963268\ttotal: 140ms\tremaining: 7.65s\n",
      "18:\tlearn: 0.5791307\ttotal: 150ms\tremaining: 7.73s\n",
      "19:\tlearn: 0.5613512\ttotal: 154ms\tremaining: 7.54s\n",
      "20:\tlearn: 0.5462556\ttotal: 159ms\tremaining: 7.41s\n",
      "21:\tlearn: 0.5282903\ttotal: 163ms\tremaining: 7.25s\n",
      "22:\tlearn: 0.5166237\ttotal: 168ms\tremaining: 7.12s\n",
      "23:\tlearn: 0.5044839\ttotal: 171ms\tremaining: 6.96s\n",
      "24:\tlearn: 0.4923811\ttotal: 182ms\tremaining: 7.1s\n",
      "25:\tlearn: 0.4837275\ttotal: 186ms\tremaining: 6.98s\n",
      "26:\tlearn: 0.4722057\ttotal: 189ms\tremaining: 6.81s\n",
      "27:\tlearn: 0.4645384\ttotal: 192ms\tremaining: 6.67s\n",
      "28:\tlearn: 0.4504171\ttotal: 201ms\tremaining: 6.73s\n",
      "29:\tlearn: 0.4362677\ttotal: 220ms\tremaining: 7.13s\n",
      "30:\tlearn: 0.4295252\ttotal: 226ms\tremaining: 7.07s\n",
      "31:\tlearn: 0.4230671\ttotal: 236ms\tremaining: 7.13s\n",
      "32:\tlearn: 0.4165870\ttotal: 249ms\tremaining: 7.3s\n",
      "33:\tlearn: 0.4075021\ttotal: 256ms\tremaining: 7.28s\n",
      "34:\tlearn: 0.3995649\ttotal: 259ms\tremaining: 7.14s\n",
      "35:\tlearn: 0.3897165\ttotal: 263ms\tremaining: 7.03s\n",
      "36:\tlearn: 0.3863825\ttotal: 268ms\tremaining: 6.96s\n",
      "37:\tlearn: 0.3765162\ttotal: 280ms\tremaining: 7.1s\n",
      "38:\tlearn: 0.3703738\ttotal: 283ms\tremaining: 6.97s\n",
      "39:\tlearn: 0.3645023\ttotal: 287ms\tremaining: 6.9s\n",
      "40:\tlearn: 0.3559747\ttotal: 295ms\tremaining: 6.89s\n",
      "41:\tlearn: 0.3500039\ttotal: 299ms\tremaining: 6.83s\n",
      "42:\tlearn: 0.3466036\ttotal: 305ms\tremaining: 6.79s\n",
      "43:\tlearn: 0.3410856\ttotal: 312ms\tremaining: 6.77s\n",
      "44:\tlearn: 0.3383719\ttotal: 316ms\tremaining: 6.71s\n",
      "45:\tlearn: 0.3338579\ttotal: 320ms\tremaining: 6.63s\n",
      "46:\tlearn: 0.3279210\ttotal: 327ms\tremaining: 6.64s\n",
      "47:\tlearn: 0.3248936\ttotal: 337ms\tremaining: 6.67s\n",
      "48:\tlearn: 0.3204254\ttotal: 342ms\tremaining: 6.64s\n",
      "49:\tlearn: 0.3157579\ttotal: 347ms\tremaining: 6.59s\n",
      "50:\tlearn: 0.3105605\ttotal: 352ms\tremaining: 6.54s\n",
      "51:\tlearn: 0.3082538\ttotal: 356ms\tremaining: 6.49s\n",
      "52:\tlearn: 0.3047122\ttotal: 360ms\tremaining: 6.44s\n",
      "53:\tlearn: 0.3023259\ttotal: 369ms\tremaining: 6.46s\n",
      "54:\tlearn: 0.2993652\ttotal: 373ms\tremaining: 6.41s\n",
      "55:\tlearn: 0.2950817\ttotal: 376ms\tremaining: 6.34s\n",
      "56:\tlearn: 0.2905236\ttotal: 379ms\tremaining: 6.27s\n",
      "57:\tlearn: 0.2871124\ttotal: 382ms\tremaining: 6.2s\n",
      "58:\tlearn: 0.2838516\ttotal: 389ms\tremaining: 6.21s\n",
      "59:\tlearn: 0.2820565\ttotal: 397ms\tremaining: 6.22s\n",
      "60:\tlearn: 0.2802076\ttotal: 409ms\tremaining: 6.3s\n",
      "61:\tlearn: 0.2784285\ttotal: 414ms\tremaining: 6.27s\n",
      "62:\tlearn: 0.2759486\ttotal: 423ms\tremaining: 6.29s\n",
      "63:\tlearn: 0.2726073\ttotal: 433ms\tremaining: 6.34s\n",
      "64:\tlearn: 0.2695800\ttotal: 437ms\tremaining: 6.29s\n",
      "65:\tlearn: 0.2665241\ttotal: 442ms\tremaining: 6.25s\n",
      "66:\tlearn: 0.2628749\ttotal: 445ms\tremaining: 6.19s\n",
      "67:\tlearn: 0.2594396\ttotal: 447ms\tremaining: 6.13s\n",
      "68:\tlearn: 0.2573288\ttotal: 452ms\tremaining: 6.1s\n",
      "69:\tlearn: 0.2534927\ttotal: 458ms\tremaining: 6.08s\n",
      "70:\tlearn: 0.2515848\ttotal: 469ms\tremaining: 6.13s\n",
      "71:\tlearn: 0.2486442\ttotal: 471ms\tremaining: 6.08s\n",
      "72:\tlearn: 0.2470246\ttotal: 475ms\tremaining: 6.03s\n",
      "73:\tlearn: 0.2444724\ttotal: 478ms\tremaining: 5.98s\n",
      "74:\tlearn: 0.2429058\ttotal: 481ms\tremaining: 5.94s\n",
      "75:\tlearn: 0.2404235\ttotal: 485ms\tremaining: 5.9s\n",
      "76:\tlearn: 0.2373799\ttotal: 488ms\tremaining: 5.85s\n",
      "77:\tlearn: 0.2360724\ttotal: 493ms\tremaining: 5.83s\n",
      "78:\tlearn: 0.2345057\ttotal: 497ms\tremaining: 5.79s\n",
      "79:\tlearn: 0.2323728\ttotal: 502ms\tremaining: 5.77s\n",
      "80:\tlearn: 0.2308838\ttotal: 507ms\tremaining: 5.75s\n",
      "81:\tlearn: 0.2293478\ttotal: 512ms\tremaining: 5.73s\n",
      "82:\tlearn: 0.2274586\ttotal: 521ms\tremaining: 5.76s\n",
      "83:\tlearn: 0.2249710\ttotal: 529ms\tremaining: 5.76s\n",
      "84:\tlearn: 0.2224572\ttotal: 533ms\tremaining: 5.73s\n",
      "85:\tlearn: 0.2208078\ttotal: 539ms\tremaining: 5.73s\n",
      "86:\tlearn: 0.2199376\ttotal: 543ms\tremaining: 5.7s\n",
      "87:\tlearn: 0.2181435\ttotal: 548ms\tremaining: 5.68s\n",
      "88:\tlearn: 0.2169962\ttotal: 552ms\tremaining: 5.65s\n",
      "89:\tlearn: 0.2159929\ttotal: 562ms\tremaining: 5.68s\n",
      "90:\tlearn: 0.2146288\ttotal: 565ms\tremaining: 5.65s\n",
      "91:\tlearn: 0.2136566\ttotal: 570ms\tremaining: 5.62s\n",
      "92:\tlearn: 0.2128633\ttotal: 573ms\tremaining: 5.58s\n",
      "93:\tlearn: 0.2108553\ttotal: 577ms\tremaining: 5.56s\n",
      "94:\tlearn: 0.2097167\ttotal: 580ms\tremaining: 5.52s\n",
      "95:\tlearn: 0.2078408\ttotal: 587ms\tremaining: 5.53s\n",
      "96:\tlearn: 0.2063578\ttotal: 602ms\tremaining: 5.61s\n",
      "97:\tlearn: 0.2043839\ttotal: 610ms\tremaining: 5.62s\n",
      "98:\tlearn: 0.2025649\ttotal: 618ms\tremaining: 5.62s\n",
      "99:\tlearn: 0.2010633\ttotal: 631ms\tremaining: 5.68s\n",
      "100:\tlearn: 0.1989970\ttotal: 636ms\tremaining: 5.66s\n",
      "101:\tlearn: 0.1979171\ttotal: 639ms\tremaining: 5.63s\n",
      "102:\tlearn: 0.1967455\ttotal: 643ms\tremaining: 5.6s\n",
      "103:\tlearn: 0.1947965\ttotal: 649ms\tremaining: 5.59s\n",
      "104:\tlearn: 0.1933419\ttotal: 656ms\tremaining: 5.59s\n",
      "105:\tlearn: 0.1913983\ttotal: 659ms\tremaining: 5.56s\n",
      "106:\tlearn: 0.1898810\ttotal: 662ms\tremaining: 5.52s\n",
      "107:\tlearn: 0.1890835\ttotal: 665ms\tremaining: 5.49s\n",
      "108:\tlearn: 0.1871183\ttotal: 668ms\tremaining: 5.46s\n",
      "109:\tlearn: 0.1854490\ttotal: 672ms\tremaining: 5.44s\n",
      "110:\tlearn: 0.1833457\ttotal: 677ms\tremaining: 5.42s\n",
      "111:\tlearn: 0.1808257\ttotal: 684ms\tremaining: 5.42s\n",
      "112:\tlearn: 0.1798329\ttotal: 690ms\tremaining: 5.41s\n",
      "113:\tlearn: 0.1781571\ttotal: 693ms\tremaining: 5.39s\n",
      "114:\tlearn: 0.1761745\ttotal: 697ms\tremaining: 5.37s\n",
      "115:\tlearn: 0.1747351\ttotal: 701ms\tremaining: 5.34s\n",
      "116:\tlearn: 0.1736965\ttotal: 710ms\tremaining: 5.36s\n",
      "117:\tlearn: 0.1723567\ttotal: 719ms\tremaining: 5.37s\n",
      "118:\tlearn: 0.1706432\ttotal: 723ms\tremaining: 5.35s\n",
      "119:\tlearn: 0.1691435\ttotal: 728ms\tremaining: 5.34s\n",
      "120:\tlearn: 0.1684277\ttotal: 732ms\tremaining: 5.32s\n",
      "121:\tlearn: 0.1675080\ttotal: 737ms\tremaining: 5.3s\n",
      "122:\tlearn: 0.1663782\ttotal: 743ms\tremaining: 5.3s\n",
      "123:\tlearn: 0.1647543\ttotal: 752ms\tremaining: 5.31s\n",
      "124:\tlearn: 0.1634225\ttotal: 757ms\tremaining: 5.3s\n",
      "125:\tlearn: 0.1624117\ttotal: 760ms\tremaining: 5.27s\n",
      "126:\tlearn: 0.1615814\ttotal: 763ms\tremaining: 5.25s\n",
      "127:\tlearn: 0.1606272\ttotal: 767ms\tremaining: 5.23s\n",
      "128:\tlearn: 0.1596306\ttotal: 770ms\tremaining: 5.2s\n",
      "129:\tlearn: 0.1585847\ttotal: 775ms\tremaining: 5.18s\n",
      "130:\tlearn: 0.1581295\ttotal: 788ms\tremaining: 5.22s\n",
      "131:\tlearn: 0.1573436\ttotal: 793ms\tremaining: 5.21s\n",
      "132:\tlearn: 0.1568175\ttotal: 800ms\tremaining: 5.21s\n",
      "133:\tlearn: 0.1559740\ttotal: 812ms\tremaining: 5.25s\n",
      "134:\tlearn: 0.1548389\ttotal: 828ms\tremaining: 5.31s\n",
      "135:\tlearn: 0.1539933\ttotal: 844ms\tremaining: 5.36s\n",
      "136:\tlearn: 0.1530448\ttotal: 851ms\tremaining: 5.36s\n",
      "137:\tlearn: 0.1524233\ttotal: 861ms\tremaining: 5.38s\n",
      "138:\tlearn: 0.1518648\ttotal: 876ms\tremaining: 5.43s\n",
      "139:\tlearn: 0.1511800\ttotal: 881ms\tremaining: 5.41s\n",
      "140:\tlearn: 0.1506202\ttotal: 886ms\tremaining: 5.39s\n",
      "141:\tlearn: 0.1502138\ttotal: 892ms\tremaining: 5.39s\n",
      "142:\tlearn: 0.1490315\ttotal: 903ms\tremaining: 5.41s\n",
      "143:\tlearn: 0.1475904\ttotal: 908ms\tremaining: 5.4s\n",
      "144:\tlearn: 0.1460054\ttotal: 916ms\tremaining: 5.4s\n",
      "145:\tlearn: 0.1452029\ttotal: 921ms\tremaining: 5.39s\n",
      "146:\tlearn: 0.1444312\ttotal: 925ms\tremaining: 5.37s\n",
      "147:\tlearn: 0.1439317\ttotal: 934ms\tremaining: 5.38s\n",
      "148:\tlearn: 0.1432198\ttotal: 938ms\tremaining: 5.36s\n",
      "149:\tlearn: 0.1426462\ttotal: 943ms\tremaining: 5.34s\n",
      "150:\tlearn: 0.1419860\ttotal: 947ms\tremaining: 5.33s\n",
      "151:\tlearn: 0.1412385\ttotal: 952ms\tremaining: 5.31s\n",
      "152:\tlearn: 0.1400352\ttotal: 955ms\tremaining: 5.29s\n",
      "153:\tlearn: 0.1392945\ttotal: 959ms\tremaining: 5.27s\n",
      "154:\tlearn: 0.1380518\ttotal: 962ms\tremaining: 5.24s\n",
      "155:\tlearn: 0.1374241\ttotal: 970ms\tremaining: 5.25s\n",
      "156:\tlearn: 0.1361568\ttotal: 973ms\tremaining: 5.22s\n",
      "157:\tlearn: 0.1354253\ttotal: 977ms\tremaining: 5.21s\n",
      "158:\tlearn: 0.1349446\ttotal: 1.09s\tremaining: 5.79s\n",
      "159:\tlearn: 0.1340541\ttotal: 1.11s\tremaining: 5.85s\n",
      "160:\tlearn: 0.1333132\ttotal: 1.15s\tremaining: 5.97s\n",
      "161:\tlearn: 0.1326116\ttotal: 1.16s\tremaining: 6.01s\n"
     ]
    },
    {
     "name": "stdout",
     "output_type": "stream",
     "text": [
      "162:\tlearn: 0.1321215\ttotal: 1.24s\tremaining: 6.36s\n",
      "163:\tlearn: 0.1314045\ttotal: 1.27s\tremaining: 6.49s\n",
      "164:\tlearn: 0.1307621\ttotal: 1.29s\tremaining: 6.55s\n",
      "165:\tlearn: 0.1296822\ttotal: 1.3s\tremaining: 6.53s\n",
      "166:\tlearn: 0.1286525\ttotal: 1.3s\tremaining: 6.51s\n",
      "167:\tlearn: 0.1281915\ttotal: 1.31s\tremaining: 6.48s\n",
      "168:\tlearn: 0.1278106\ttotal: 1.31s\tremaining: 6.46s\n",
      "169:\tlearn: 0.1272384\ttotal: 1.32s\tremaining: 6.47s\n",
      "170:\tlearn: 0.1264569\ttotal: 1.34s\tremaining: 6.48s\n",
      "171:\tlearn: 0.1256313\ttotal: 1.34s\tremaining: 6.45s\n",
      "172:\tlearn: 0.1250547\ttotal: 1.35s\tremaining: 6.43s\n",
      "173:\tlearn: 0.1242396\ttotal: 1.36s\tremaining: 6.44s\n",
      "174:\tlearn: 0.1237665\ttotal: 1.36s\tremaining: 6.43s\n",
      "175:\tlearn: 0.1230956\ttotal: 1.37s\tremaining: 6.4s\n",
      "176:\tlearn: 0.1224956\ttotal: 1.38s\tremaining: 6.39s\n",
      "177:\tlearn: 0.1217914\ttotal: 1.39s\tremaining: 6.4s\n",
      "178:\tlearn: 0.1210950\ttotal: 1.39s\tremaining: 6.38s\n",
      "179:\tlearn: 0.1202097\ttotal: 1.39s\tremaining: 6.35s\n",
      "180:\tlearn: 0.1194558\ttotal: 1.4s\tremaining: 6.34s\n",
      "181:\tlearn: 0.1190227\ttotal: 1.41s\tremaining: 6.32s\n",
      "182:\tlearn: 0.1180233\ttotal: 1.41s\tremaining: 6.29s\n",
      "183:\tlearn: 0.1175853\ttotal: 1.41s\tremaining: 6.27s\n",
      "184:\tlearn: 0.1170376\ttotal: 1.42s\tremaining: 6.25s\n",
      "185:\tlearn: 0.1162768\ttotal: 1.42s\tremaining: 6.23s\n",
      "186:\tlearn: 0.1158250\ttotal: 1.43s\tremaining: 6.2s\n",
      "187:\tlearn: 0.1153278\ttotal: 1.43s\tremaining: 6.17s\n",
      "188:\tlearn: 0.1147933\ttotal: 1.43s\tremaining: 6.14s\n",
      "189:\tlearn: 0.1145566\ttotal: 1.44s\tremaining: 6.13s\n",
      "190:\tlearn: 0.1139866\ttotal: 1.45s\tremaining: 6.13s\n",
      "191:\tlearn: 0.1136212\ttotal: 1.45s\tremaining: 6.12s\n",
      "192:\tlearn: 0.1131748\ttotal: 1.46s\tremaining: 6.1s\n",
      "193:\tlearn: 0.1127249\ttotal: 1.46s\tremaining: 6.07s\n",
      "194:\tlearn: 0.1116253\ttotal: 1.46s\tremaining: 6.05s\n",
      "195:\tlearn: 0.1108031\ttotal: 1.48s\tremaining: 6.07s\n",
      "196:\tlearn: 0.1105178\ttotal: 1.48s\tremaining: 6.05s\n",
      "197:\tlearn: 0.1102733\ttotal: 1.49s\tremaining: 6.02s\n",
      "198:\tlearn: 0.1100294\ttotal: 1.49s\tremaining: 6s\n",
      "199:\tlearn: 0.1093450\ttotal: 1.49s\tremaining: 5.98s\n",
      "200:\tlearn: 0.1090093\ttotal: 1.5s\tremaining: 5.95s\n",
      "201:\tlearn: 0.1086411\ttotal: 1.5s\tremaining: 5.93s\n",
      "202:\tlearn: 0.1083387\ttotal: 1.51s\tremaining: 5.92s\n",
      "203:\tlearn: 0.1079446\ttotal: 1.52s\tremaining: 5.92s\n",
      "204:\tlearn: 0.1073814\ttotal: 1.52s\tremaining: 5.9s\n",
      "205:\tlearn: 0.1068681\ttotal: 1.52s\tremaining: 5.88s\n",
      "206:\tlearn: 0.1065413\ttotal: 1.53s\tremaining: 5.87s\n",
      "207:\tlearn: 0.1061019\ttotal: 1.53s\tremaining: 5.84s\n",
      "208:\tlearn: 0.1056618\ttotal: 1.54s\tremaining: 5.84s\n",
      "209:\tlearn: 0.1048226\ttotal: 1.55s\tremaining: 5.82s\n",
      "210:\tlearn: 0.1045040\ttotal: 1.55s\tremaining: 5.8s\n",
      "211:\tlearn: 0.1040575\ttotal: 1.55s\tremaining: 5.78s\n",
      "212:\tlearn: 0.1037676\ttotal: 1.56s\tremaining: 5.75s\n",
      "213:\tlearn: 0.1033270\ttotal: 1.56s\tremaining: 5.73s\n",
      "214:\tlearn: 0.1028361\ttotal: 1.56s\tremaining: 5.71s\n",
      "215:\tlearn: 0.1023822\ttotal: 1.57s\tremaining: 5.71s\n",
      "216:\tlearn: 0.1019665\ttotal: 1.58s\tremaining: 5.69s\n",
      "217:\tlearn: 0.1014727\ttotal: 1.58s\tremaining: 5.67s\n",
      "218:\tlearn: 0.1009435\ttotal: 1.58s\tremaining: 5.65s\n",
      "219:\tlearn: 0.1003556\ttotal: 1.59s\tremaining: 5.63s\n",
      "220:\tlearn: 0.1000331\ttotal: 1.59s\tremaining: 5.61s\n",
      "221:\tlearn: 0.0992736\ttotal: 1.59s\tremaining: 5.59s\n",
      "222:\tlearn: 0.0988787\ttotal: 1.6s\tremaining: 5.57s\n",
      "223:\tlearn: 0.0982827\ttotal: 1.6s\tremaining: 5.55s\n",
      "224:\tlearn: 0.0977918\ttotal: 1.61s\tremaining: 5.54s\n",
      "225:\tlearn: 0.0972433\ttotal: 1.61s\tremaining: 5.52s\n",
      "226:\tlearn: 0.0969938\ttotal: 1.61s\tremaining: 5.5s\n",
      "227:\tlearn: 0.0964691\ttotal: 1.62s\tremaining: 5.48s\n",
      "228:\tlearn: 0.0962733\ttotal: 1.62s\tremaining: 5.46s\n",
      "229:\tlearn: 0.0957457\ttotal: 1.63s\tremaining: 5.45s\n",
      "230:\tlearn: 0.0953955\ttotal: 1.64s\tremaining: 5.45s\n",
      "231:\tlearn: 0.0946915\ttotal: 1.64s\tremaining: 5.44s\n",
      "232:\tlearn: 0.0944190\ttotal: 1.65s\tremaining: 5.42s\n",
      "233:\tlearn: 0.0940485\ttotal: 1.65s\tremaining: 5.4s\n",
      "234:\tlearn: 0.0935815\ttotal: 1.65s\tremaining: 5.38s\n",
      "235:\tlearn: 0.0933415\ttotal: 1.66s\tremaining: 5.37s\n",
      "236:\tlearn: 0.0925856\ttotal: 1.67s\tremaining: 5.37s\n",
      "237:\tlearn: 0.0922653\ttotal: 1.67s\tremaining: 5.35s\n",
      "238:\tlearn: 0.0919627\ttotal: 1.67s\tremaining: 5.33s\n",
      "239:\tlearn: 0.0917396\ttotal: 1.68s\tremaining: 5.31s\n",
      "240:\tlearn: 0.0914810\ttotal: 1.68s\tremaining: 5.3s\n",
      "241:\tlearn: 0.0912606\ttotal: 1.69s\tremaining: 5.29s\n",
      "242:\tlearn: 0.0910137\ttotal: 1.69s\tremaining: 5.27s\n",
      "243:\tlearn: 0.0906148\ttotal: 1.72s\tremaining: 5.33s\n",
      "244:\tlearn: 0.0900677\ttotal: 1.74s\tremaining: 5.36s\n",
      "245:\tlearn: 0.0899317\ttotal: 1.74s\tremaining: 5.34s\n",
      "246:\tlearn: 0.0896055\ttotal: 1.75s\tremaining: 5.33s\n",
      "247:\tlearn: 0.0891359\ttotal: 1.75s\tremaining: 5.31s\n",
      "248:\tlearn: 0.0886421\ttotal: 1.76s\tremaining: 5.31s\n",
      "249:\tlearn: 0.0882098\ttotal: 1.76s\tremaining: 5.29s\n",
      "250:\tlearn: 0.0878845\ttotal: 1.76s\tremaining: 5.27s\n",
      "251:\tlearn: 0.0875342\ttotal: 1.77s\tremaining: 5.25s\n",
      "252:\tlearn: 0.0872456\ttotal: 1.77s\tremaining: 5.24s\n",
      "253:\tlearn: 0.0868948\ttotal: 1.78s\tremaining: 5.22s\n",
      "254:\tlearn: 0.0866624\ttotal: 1.78s\tremaining: 5.2s\n",
      "255:\tlearn: 0.0863430\ttotal: 1.78s\tremaining: 5.19s\n",
      "256:\tlearn: 0.0859603\ttotal: 1.79s\tremaining: 5.17s\n",
      "257:\tlearn: 0.0855541\ttotal: 1.8s\tremaining: 5.17s\n",
      "258:\tlearn: 0.0853067\ttotal: 1.8s\tremaining: 5.16s\n",
      "259:\tlearn: 0.0848275\ttotal: 1.8s\tremaining: 5.14s\n",
      "260:\tlearn: 0.0844994\ttotal: 1.81s\tremaining: 5.12s\n",
      "261:\tlearn: 0.0842457\ttotal: 1.81s\tremaining: 5.1s\n",
      "262:\tlearn: 0.0840588\ttotal: 1.82s\tremaining: 5.09s\n",
      "263:\tlearn: 0.0836879\ttotal: 1.84s\tremaining: 5.12s\n",
      "264:\tlearn: 0.0835119\ttotal: 1.84s\tremaining: 5.1s\n",
      "265:\tlearn: 0.0831737\ttotal: 1.85s\tremaining: 5.11s\n",
      "266:\tlearn: 0.0827604\ttotal: 1.85s\tremaining: 5.09s\n",
      "267:\tlearn: 0.0825180\ttotal: 1.86s\tremaining: 5.08s\n",
      "268:\tlearn: 0.0821946\ttotal: 1.86s\tremaining: 5.07s\n",
      "269:\tlearn: 0.0818236\ttotal: 1.87s\tremaining: 5.05s\n",
      "270:\tlearn: 0.0816352\ttotal: 1.87s\tremaining: 5.04s\n",
      "271:\tlearn: 0.0814408\ttotal: 1.88s\tremaining: 5.02s\n",
      "272:\tlearn: 0.0811138\ttotal: 1.88s\tremaining: 5s\n",
      "273:\tlearn: 0.0807225\ttotal: 1.88s\tremaining: 4.99s\n",
      "274:\tlearn: 0.0803673\ttotal: 1.89s\tremaining: 4.98s\n",
      "275:\tlearn: 0.0801228\ttotal: 1.89s\tremaining: 4.97s\n",
      "276:\tlearn: 0.0797750\ttotal: 1.9s\tremaining: 4.95s\n",
      "277:\tlearn: 0.0795395\ttotal: 1.9s\tremaining: 4.93s\n",
      "278:\tlearn: 0.0792833\ttotal: 1.9s\tremaining: 4.92s\n",
      "279:\tlearn: 0.0789893\ttotal: 1.91s\tremaining: 4.91s\n",
      "280:\tlearn: 0.0787323\ttotal: 1.92s\tremaining: 4.9s\n",
      "281:\tlearn: 0.0784437\ttotal: 1.92s\tremaining: 4.89s\n",
      "282:\tlearn: 0.0780838\ttotal: 1.93s\tremaining: 4.89s\n",
      "283:\tlearn: 0.0777006\ttotal: 1.94s\tremaining: 4.88s\n",
      "284:\tlearn: 0.0771654\ttotal: 1.94s\tremaining: 4.87s\n",
      "285:\tlearn: 0.0769312\ttotal: 1.95s\tremaining: 4.86s\n",
      "286:\tlearn: 0.0766985\ttotal: 1.95s\tremaining: 4.85s\n",
      "287:\tlearn: 0.0764613\ttotal: 1.96s\tremaining: 4.84s\n",
      "288:\tlearn: 0.0761237\ttotal: 1.96s\tremaining: 4.82s\n",
      "289:\tlearn: 0.0759625\ttotal: 1.96s\tremaining: 4.81s\n",
      "290:\tlearn: 0.0756092\ttotal: 1.97s\tremaining: 4.79s\n",
      "291:\tlearn: 0.0750541\ttotal: 1.97s\tremaining: 4.78s\n",
      "292:\tlearn: 0.0747256\ttotal: 1.97s\tremaining: 4.76s\n",
      "293:\tlearn: 0.0743963\ttotal: 1.98s\tremaining: 4.75s\n",
      "294:\tlearn: 0.0742529\ttotal: 1.98s\tremaining: 4.74s\n",
      "295:\tlearn: 0.0738854\ttotal: 1.99s\tremaining: 4.73s\n",
      "296:\tlearn: 0.0736820\ttotal: 1.99s\tremaining: 4.71s\n",
      "297:\tlearn: 0.0734432\ttotal: 1.99s\tremaining: 4.7s\n",
      "298:\tlearn: 0.0732341\ttotal: 2s\tremaining: 4.68s\n",
      "299:\tlearn: 0.0729180\ttotal: 2s\tremaining: 4.67s\n",
      "300:\tlearn: 0.0725939\ttotal: 2s\tremaining: 4.65s\n",
      "301:\tlearn: 0.0723441\ttotal: 2.01s\tremaining: 4.64s\n",
      "302:\tlearn: 0.0721365\ttotal: 2.02s\tremaining: 4.65s\n",
      "303:\tlearn: 0.0718851\ttotal: 2.03s\tremaining: 4.65s\n",
      "304:\tlearn: 0.0716089\ttotal: 2.03s\tremaining: 4.64s\n",
      "305:\tlearn: 0.0714321\ttotal: 2.04s\tremaining: 4.64s\n",
      "306:\tlearn: 0.0711806\ttotal: 2.05s\tremaining: 4.62s\n",
      "307:\tlearn: 0.0709067\ttotal: 2.05s\tremaining: 4.62s\n",
      "308:\tlearn: 0.0706475\ttotal: 2.06s\tremaining: 4.6s\n",
      "309:\tlearn: 0.0701652\ttotal: 2.06s\tremaining: 4.59s\n",
      "310:\tlearn: 0.0699505\ttotal: 2.06s\tremaining: 4.57s\n",
      "311:\tlearn: 0.0698564\ttotal: 2.07s\tremaining: 4.56s\n",
      "312:\tlearn: 0.0696726\ttotal: 2.07s\tremaining: 4.55s\n",
      "313:\tlearn: 0.0694608\ttotal: 2.08s\tremaining: 4.54s\n",
      "314:\tlearn: 0.0692877\ttotal: 2.08s\tremaining: 4.53s\n",
      "315:\tlearn: 0.0690124\ttotal: 2.08s\tremaining: 4.51s\n",
      "316:\tlearn: 0.0688359\ttotal: 2.09s\tremaining: 4.5s\n",
      "317:\tlearn: 0.0686497\ttotal: 2.09s\tremaining: 4.49s\n",
      "318:\tlearn: 0.0684660\ttotal: 2.1s\tremaining: 4.48s\n",
      "319:\tlearn: 0.0682727\ttotal: 2.1s\tremaining: 4.47s\n",
      "320:\tlearn: 0.0679458\ttotal: 2.11s\tremaining: 4.46s\n",
      "321:\tlearn: 0.0677210\ttotal: 2.12s\tremaining: 4.45s\n",
      "322:\tlearn: 0.0675739\ttotal: 2.12s\tremaining: 4.44s\n",
      "323:\tlearn: 0.0673976\ttotal: 2.12s\tremaining: 4.43s\n",
      "324:\tlearn: 0.0670409\ttotal: 2.13s\tremaining: 4.43s\n",
      "325:\tlearn: 0.0668083\ttotal: 2.14s\tremaining: 4.42s\n",
      "326:\tlearn: 0.0666120\ttotal: 2.14s\tremaining: 4.41s\n",
      "327:\tlearn: 0.0664620\ttotal: 2.14s\tremaining: 4.39s\n",
      "328:\tlearn: 0.0662437\ttotal: 2.15s\tremaining: 4.38s\n",
      "329:\tlearn: 0.0658717\ttotal: 2.15s\tremaining: 4.37s\n",
      "330:\tlearn: 0.0656255\ttotal: 2.16s\tremaining: 4.36s\n",
      "331:\tlearn: 0.0652717\ttotal: 2.16s\tremaining: 4.34s\n",
      "332:\tlearn: 0.0650442\ttotal: 2.16s\tremaining: 4.33s\n",
      "333:\tlearn: 0.0649004\ttotal: 2.17s\tremaining: 4.33s\n",
      "334:\tlearn: 0.0647822\ttotal: 2.17s\tremaining: 4.32s\n",
      "335:\tlearn: 0.0645690\ttotal: 2.18s\tremaining: 4.3s\n",
      "336:\tlearn: 0.0643594\ttotal: 2.18s\tremaining: 4.29s\n",
      "337:\tlearn: 0.0642053\ttotal: 2.18s\tremaining: 4.28s\n",
      "338:\tlearn: 0.0640563\ttotal: 2.19s\tremaining: 4.26s\n",
      "339:\tlearn: 0.0638230\ttotal: 2.19s\tremaining: 4.25s\n"
     ]
    },
    {
     "name": "stdout",
     "output_type": "stream",
     "text": [
      "340:\tlearn: 0.0636383\ttotal: 2.2s\tremaining: 4.25s\n",
      "341:\tlearn: 0.0634357\ttotal: 2.21s\tremaining: 4.25s\n",
      "342:\tlearn: 0.0631104\ttotal: 2.21s\tremaining: 4.24s\n",
      "343:\tlearn: 0.0629400\ttotal: 2.22s\tremaining: 4.23s\n",
      "344:\tlearn: 0.0627551\ttotal: 2.22s\tremaining: 4.22s\n",
      "345:\tlearn: 0.0624280\ttotal: 2.23s\tremaining: 4.21s\n",
      "346:\tlearn: 0.0622307\ttotal: 2.23s\tremaining: 4.2s\n",
      "347:\tlearn: 0.0619503\ttotal: 2.24s\tremaining: 4.19s\n",
      "348:\tlearn: 0.0617560\ttotal: 2.24s\tremaining: 4.18s\n",
      "349:\tlearn: 0.0616629\ttotal: 2.24s\tremaining: 4.17s\n",
      "350:\tlearn: 0.0615446\ttotal: 2.25s\tremaining: 4.17s\n",
      "351:\tlearn: 0.0614891\ttotal: 2.26s\tremaining: 4.16s\n",
      "352:\tlearn: 0.0612963\ttotal: 2.26s\tremaining: 4.15s\n",
      "353:\tlearn: 0.0611522\ttotal: 2.27s\tremaining: 4.14s\n",
      "354:\tlearn: 0.0609600\ttotal: 2.27s\tremaining: 4.13s\n",
      "355:\tlearn: 0.0607920\ttotal: 2.28s\tremaining: 4.12s\n",
      "356:\tlearn: 0.0606287\ttotal: 2.29s\tremaining: 4.12s\n",
      "357:\tlearn: 0.0604997\ttotal: 2.29s\tremaining: 4.11s\n",
      "358:\tlearn: 0.0601890\ttotal: 2.3s\tremaining: 4.1s\n",
      "359:\tlearn: 0.0600815\ttotal: 2.3s\tremaining: 4.09s\n",
      "360:\tlearn: 0.0599598\ttotal: 2.31s\tremaining: 4.09s\n",
      "361:\tlearn: 0.0598764\ttotal: 2.32s\tremaining: 4.08s\n",
      "362:\tlearn: 0.0597022\ttotal: 2.32s\tremaining: 4.08s\n",
      "363:\tlearn: 0.0595566\ttotal: 2.33s\tremaining: 4.07s\n",
      "364:\tlearn: 0.0593956\ttotal: 2.33s\tremaining: 4.06s\n",
      "365:\tlearn: 0.0592323\ttotal: 2.34s\tremaining: 4.06s\n",
      "366:\tlearn: 0.0591165\ttotal: 2.35s\tremaining: 4.05s\n",
      "367:\tlearn: 0.0588476\ttotal: 2.35s\tremaining: 4.04s\n",
      "368:\tlearn: 0.0587017\ttotal: 2.36s\tremaining: 4.03s\n",
      "369:\tlearn: 0.0585368\ttotal: 2.36s\tremaining: 4.02s\n",
      "370:\tlearn: 0.0584092\ttotal: 2.36s\tremaining: 4s\n",
      "371:\tlearn: 0.0583087\ttotal: 2.37s\tremaining: 3.99s\n",
      "372:\tlearn: 0.0581869\ttotal: 2.37s\tremaining: 3.99s\n",
      "373:\tlearn: 0.0581325\ttotal: 2.38s\tremaining: 3.98s\n",
      "374:\tlearn: 0.0578475\ttotal: 2.38s\tremaining: 3.97s\n",
      "375:\tlearn: 0.0577107\ttotal: 2.39s\tremaining: 3.96s\n",
      "376:\tlearn: 0.0575634\ttotal: 2.39s\tremaining: 3.96s\n",
      "377:\tlearn: 0.0574480\ttotal: 2.4s\tremaining: 3.95s\n",
      "378:\tlearn: 0.0572487\ttotal: 2.41s\tremaining: 3.94s\n",
      "379:\tlearn: 0.0571030\ttotal: 2.41s\tremaining: 3.94s\n",
      "380:\tlearn: 0.0570047\ttotal: 2.42s\tremaining: 3.92s\n",
      "381:\tlearn: 0.0569525\ttotal: 2.42s\tremaining: 3.91s\n",
      "382:\tlearn: 0.0567777\ttotal: 2.42s\tremaining: 3.9s\n",
      "383:\tlearn: 0.0566977\ttotal: 2.42s\tremaining: 3.89s\n",
      "384:\tlearn: 0.0565389\ttotal: 2.43s\tremaining: 3.88s\n",
      "385:\tlearn: 0.0563789\ttotal: 2.43s\tremaining: 3.87s\n",
      "386:\tlearn: 0.0561771\ttotal: 2.44s\tremaining: 3.86s\n",
      "387:\tlearn: 0.0561218\ttotal: 2.45s\tremaining: 3.86s\n",
      "388:\tlearn: 0.0559055\ttotal: 2.45s\tremaining: 3.85s\n",
      "389:\tlearn: 0.0557855\ttotal: 2.45s\tremaining: 3.84s\n",
      "390:\tlearn: 0.0556898\ttotal: 2.46s\tremaining: 3.83s\n",
      "391:\tlearn: 0.0554333\ttotal: 2.46s\tremaining: 3.82s\n",
      "392:\tlearn: 0.0551624\ttotal: 2.47s\tremaining: 3.81s\n",
      "393:\tlearn: 0.0550945\ttotal: 2.47s\tremaining: 3.81s\n",
      "394:\tlearn: 0.0550238\ttotal: 2.48s\tremaining: 3.8s\n",
      "395:\tlearn: 0.0548474\ttotal: 2.48s\tremaining: 3.79s\n",
      "396:\tlearn: 0.0547126\ttotal: 2.49s\tremaining: 3.78s\n",
      "397:\tlearn: 0.0545720\ttotal: 2.49s\tremaining: 3.77s\n",
      "398:\tlearn: 0.0542708\ttotal: 2.5s\tremaining: 3.77s\n",
      "399:\tlearn: 0.0540417\ttotal: 2.5s\tremaining: 3.76s\n",
      "400:\tlearn: 0.0538867\ttotal: 2.51s\tremaining: 3.75s\n",
      "401:\tlearn: 0.0536954\ttotal: 2.51s\tremaining: 3.73s\n",
      "402:\tlearn: 0.0534815\ttotal: 2.51s\tremaining: 3.72s\n",
      "403:\tlearn: 0.0533443\ttotal: 2.52s\tremaining: 3.72s\n",
      "404:\tlearn: 0.0532540\ttotal: 2.52s\tremaining: 3.71s\n",
      "405:\tlearn: 0.0531499\ttotal: 2.52s\tremaining: 3.69s\n",
      "406:\tlearn: 0.0530342\ttotal: 2.53s\tremaining: 3.69s\n",
      "407:\tlearn: 0.0528555\ttotal: 2.53s\tremaining: 3.67s\n",
      "408:\tlearn: 0.0527217\ttotal: 2.54s\tremaining: 3.67s\n",
      "409:\tlearn: 0.0526195\ttotal: 2.54s\tremaining: 3.65s\n",
      "410:\tlearn: 0.0524370\ttotal: 2.54s\tremaining: 3.65s\n",
      "411:\tlearn: 0.0523367\ttotal: 2.55s\tremaining: 3.63s\n",
      "412:\tlearn: 0.0520805\ttotal: 2.55s\tremaining: 3.62s\n",
      "413:\tlearn: 0.0519008\ttotal: 2.55s\tremaining: 3.61s\n",
      "414:\tlearn: 0.0517353\ttotal: 2.56s\tremaining: 3.6s\n",
      "415:\tlearn: 0.0516225\ttotal: 2.56s\tremaining: 3.6s\n",
      "416:\tlearn: 0.0515253\ttotal: 2.56s\tremaining: 3.59s\n",
      "417:\tlearn: 0.0514058\ttotal: 2.57s\tremaining: 3.58s\n",
      "418:\tlearn: 0.0511873\ttotal: 2.58s\tremaining: 3.57s\n",
      "419:\tlearn: 0.0510331\ttotal: 2.58s\tremaining: 3.56s\n",
      "420:\tlearn: 0.0508914\ttotal: 2.58s\tremaining: 3.56s\n",
      "421:\tlearn: 0.0508021\ttotal: 2.59s\tremaining: 3.55s\n",
      "422:\tlearn: 0.0506672\ttotal: 2.6s\tremaining: 3.54s\n",
      "423:\tlearn: 0.0505447\ttotal: 2.6s\tremaining: 3.53s\n",
      "424:\tlearn: 0.0503313\ttotal: 2.61s\tremaining: 3.53s\n",
      "425:\tlearn: 0.0501672\ttotal: 2.61s\tremaining: 3.52s\n",
      "426:\tlearn: 0.0500377\ttotal: 2.62s\tremaining: 3.51s\n",
      "427:\tlearn: 0.0499219\ttotal: 2.62s\tremaining: 3.5s\n",
      "428:\tlearn: 0.0497863\ttotal: 2.63s\tremaining: 3.5s\n",
      "429:\tlearn: 0.0496050\ttotal: 2.64s\tremaining: 3.5s\n",
      "430:\tlearn: 0.0493637\ttotal: 2.64s\tremaining: 3.49s\n",
      "431:\tlearn: 0.0492622\ttotal: 2.65s\tremaining: 3.48s\n",
      "432:\tlearn: 0.0490939\ttotal: 2.66s\tremaining: 3.48s\n",
      "433:\tlearn: 0.0488926\ttotal: 2.68s\tremaining: 3.49s\n",
      "434:\tlearn: 0.0488104\ttotal: 2.71s\tremaining: 3.52s\n",
      "435:\tlearn: 0.0487538\ttotal: 2.71s\tremaining: 3.51s\n",
      "436:\tlearn: 0.0485840\ttotal: 2.73s\tremaining: 3.52s\n",
      "437:\tlearn: 0.0484295\ttotal: 2.74s\tremaining: 3.52s\n",
      "438:\tlearn: 0.0483083\ttotal: 2.74s\tremaining: 3.5s\n",
      "439:\tlearn: 0.0480954\ttotal: 2.75s\tremaining: 3.5s\n",
      "440:\tlearn: 0.0479565\ttotal: 2.76s\tremaining: 3.5s\n",
      "441:\tlearn: 0.0477370\ttotal: 2.77s\tremaining: 3.5s\n",
      "442:\tlearn: 0.0475611\ttotal: 2.83s\tremaining: 3.56s\n",
      "443:\tlearn: 0.0474435\ttotal: 2.84s\tremaining: 3.55s\n",
      "444:\tlearn: 0.0473592\ttotal: 2.84s\tremaining: 3.54s\n",
      "445:\tlearn: 0.0472468\ttotal: 2.87s\tremaining: 3.56s\n",
      "446:\tlearn: 0.0471583\ttotal: 2.88s\tremaining: 3.56s\n",
      "447:\tlearn: 0.0470401\ttotal: 2.89s\tremaining: 3.56s\n",
      "448:\tlearn: 0.0469894\ttotal: 2.89s\tremaining: 3.55s\n",
      "449:\tlearn: 0.0467815\ttotal: 2.9s\tremaining: 3.55s\n",
      "450:\tlearn: 0.0466732\ttotal: 2.91s\tremaining: 3.54s\n",
      "451:\tlearn: 0.0465700\ttotal: 2.91s\tremaining: 3.53s\n",
      "452:\tlearn: 0.0464174\ttotal: 2.92s\tremaining: 3.52s\n",
      "453:\tlearn: 0.0463082\ttotal: 2.92s\tremaining: 3.51s\n",
      "454:\tlearn: 0.0461771\ttotal: 2.92s\tremaining: 3.5s\n",
      "455:\tlearn: 0.0459388\ttotal: 2.94s\tremaining: 3.5s\n",
      "456:\tlearn: 0.0458521\ttotal: 2.95s\tremaining: 3.5s\n",
      "457:\tlearn: 0.0457404\ttotal: 2.95s\tremaining: 3.49s\n",
      "458:\tlearn: 0.0455928\ttotal: 2.96s\tremaining: 3.48s\n",
      "459:\tlearn: 0.0454330\ttotal: 3s\tremaining: 3.52s\n",
      "460:\tlearn: 0.0451697\ttotal: 3.01s\tremaining: 3.52s\n",
      "461:\tlearn: 0.0450651\ttotal: 3.02s\tremaining: 3.51s\n",
      "462:\tlearn: 0.0448924\ttotal: 3.02s\tremaining: 3.5s\n",
      "463:\tlearn: 0.0447545\ttotal: 3.03s\tremaining: 3.5s\n",
      "464:\tlearn: 0.0447197\ttotal: 3.04s\tremaining: 3.49s\n",
      "465:\tlearn: 0.0446332\ttotal: 3.05s\tremaining: 3.5s\n",
      "466:\tlearn: 0.0444946\ttotal: 3.06s\tremaining: 3.49s\n",
      "467:\tlearn: 0.0443795\ttotal: 3.06s\tremaining: 3.48s\n",
      "468:\tlearn: 0.0442804\ttotal: 3.07s\tremaining: 3.47s\n",
      "469:\tlearn: 0.0442178\ttotal: 3.07s\tremaining: 3.46s\n",
      "470:\tlearn: 0.0441265\ttotal: 3.08s\tremaining: 3.46s\n",
      "471:\tlearn: 0.0440299\ttotal: 3.08s\tremaining: 3.45s\n",
      "472:\tlearn: 0.0439330\ttotal: 3.1s\tremaining: 3.45s\n",
      "473:\tlearn: 0.0437219\ttotal: 3.11s\tremaining: 3.45s\n",
      "474:\tlearn: 0.0435876\ttotal: 3.11s\tremaining: 3.44s\n",
      "475:\tlearn: 0.0434604\ttotal: 3.12s\tremaining: 3.43s\n",
      "476:\tlearn: 0.0433414\ttotal: 3.14s\tremaining: 3.44s\n",
      "477:\tlearn: 0.0431774\ttotal: 3.14s\tremaining: 3.43s\n",
      "478:\tlearn: 0.0431090\ttotal: 3.15s\tremaining: 3.42s\n",
      "479:\tlearn: 0.0430117\ttotal: 3.15s\tremaining: 3.41s\n",
      "480:\tlearn: 0.0428402\ttotal: 3.16s\tremaining: 3.41s\n",
      "481:\tlearn: 0.0427248\ttotal: 3.17s\tremaining: 3.4s\n",
      "482:\tlearn: 0.0426711\ttotal: 3.17s\tremaining: 3.4s\n",
      "483:\tlearn: 0.0425175\ttotal: 3.17s\tremaining: 3.38s\n",
      "484:\tlearn: 0.0424243\ttotal: 3.18s\tremaining: 3.38s\n",
      "485:\tlearn: 0.0422811\ttotal: 3.18s\tremaining: 3.37s\n",
      "486:\tlearn: 0.0421768\ttotal: 3.19s\tremaining: 3.36s\n",
      "487:\tlearn: 0.0420259\ttotal: 3.19s\tremaining: 3.35s\n",
      "488:\tlearn: 0.0419447\ttotal: 3.2s\tremaining: 3.35s\n",
      "489:\tlearn: 0.0418461\ttotal: 3.21s\tremaining: 3.34s\n",
      "490:\tlearn: 0.0417249\ttotal: 3.21s\tremaining: 3.33s\n",
      "491:\tlearn: 0.0416503\ttotal: 3.23s\tremaining: 3.33s\n",
      "492:\tlearn: 0.0415906\ttotal: 3.24s\tremaining: 3.33s\n",
      "493:\tlearn: 0.0414938\ttotal: 3.24s\tremaining: 3.32s\n",
      "494:\tlearn: 0.0414118\ttotal: 3.24s\tremaining: 3.31s\n",
      "495:\tlearn: 0.0412546\ttotal: 3.25s\tremaining: 3.31s\n",
      "496:\tlearn: 0.0411827\ttotal: 3.26s\tremaining: 3.3s\n",
      "497:\tlearn: 0.0410167\ttotal: 3.26s\tremaining: 3.29s\n",
      "498:\tlearn: 0.0409142\ttotal: 3.27s\tremaining: 3.28s\n",
      "499:\tlearn: 0.0407926\ttotal: 3.27s\tremaining: 3.27s\n",
      "500:\tlearn: 0.0406580\ttotal: 3.3s\tremaining: 3.29s\n",
      "501:\tlearn: 0.0405278\ttotal: 3.3s\tremaining: 3.28s\n",
      "502:\tlearn: 0.0404431\ttotal: 3.32s\tremaining: 3.28s\n",
      "503:\tlearn: 0.0403443\ttotal: 3.33s\tremaining: 3.28s\n",
      "504:\tlearn: 0.0402066\ttotal: 3.33s\tremaining: 3.27s\n",
      "505:\tlearn: 0.0401072\ttotal: 3.34s\tremaining: 3.26s\n",
      "506:\tlearn: 0.0399364\ttotal: 3.35s\tremaining: 3.26s\n",
      "507:\tlearn: 0.0398356\ttotal: 3.36s\tremaining: 3.25s\n",
      "508:\tlearn: 0.0396728\ttotal: 3.36s\tremaining: 3.24s\n",
      "509:\tlearn: 0.0396061\ttotal: 3.37s\tremaining: 3.23s\n",
      "510:\tlearn: 0.0395478\ttotal: 3.37s\tremaining: 3.22s\n"
     ]
    },
    {
     "name": "stdout",
     "output_type": "stream",
     "text": [
      "511:\tlearn: 0.0394921\ttotal: 3.39s\tremaining: 3.23s\n",
      "512:\tlearn: 0.0393930\ttotal: 3.41s\tremaining: 3.24s\n",
      "513:\tlearn: 0.0392976\ttotal: 3.42s\tremaining: 3.23s\n",
      "514:\tlearn: 0.0391454\ttotal: 3.43s\tremaining: 3.23s\n",
      "515:\tlearn: 0.0390722\ttotal: 3.45s\tremaining: 3.23s\n",
      "516:\tlearn: 0.0389938\ttotal: 3.46s\tremaining: 3.23s\n",
      "517:\tlearn: 0.0388893\ttotal: 3.46s\tremaining: 3.22s\n",
      "518:\tlearn: 0.0388038\ttotal: 3.46s\tremaining: 3.21s\n",
      "519:\tlearn: 0.0386712\ttotal: 3.47s\tremaining: 3.2s\n",
      "520:\tlearn: 0.0385328\ttotal: 3.47s\tremaining: 3.19s\n",
      "521:\tlearn: 0.0384656\ttotal: 3.48s\tremaining: 3.18s\n",
      "522:\tlearn: 0.0383093\ttotal: 3.48s\tremaining: 3.17s\n",
      "523:\tlearn: 0.0382408\ttotal: 3.48s\tremaining: 3.17s\n",
      "524:\tlearn: 0.0381959\ttotal: 3.49s\tremaining: 3.16s\n",
      "525:\tlearn: 0.0381067\ttotal: 3.49s\tremaining: 3.15s\n",
      "526:\tlearn: 0.0380318\ttotal: 3.5s\tremaining: 3.14s\n",
      "527:\tlearn: 0.0379498\ttotal: 3.51s\tremaining: 3.13s\n",
      "528:\tlearn: 0.0378791\ttotal: 3.52s\tremaining: 3.13s\n",
      "529:\tlearn: 0.0377818\ttotal: 3.52s\tremaining: 3.12s\n",
      "530:\tlearn: 0.0376517\ttotal: 3.52s\tremaining: 3.11s\n",
      "531:\tlearn: 0.0375230\ttotal: 3.53s\tremaining: 3.1s\n",
      "532:\tlearn: 0.0374324\ttotal: 3.54s\tremaining: 3.1s\n",
      "533:\tlearn: 0.0373745\ttotal: 3.54s\tremaining: 3.09s\n",
      "534:\tlearn: 0.0373236\ttotal: 3.55s\tremaining: 3.08s\n",
      "535:\tlearn: 0.0372715\ttotal: 3.55s\tremaining: 3.07s\n",
      "536:\tlearn: 0.0371406\ttotal: 3.55s\tremaining: 3.06s\n",
      "537:\tlearn: 0.0370650\ttotal: 3.56s\tremaining: 3.05s\n",
      "538:\tlearn: 0.0369450\ttotal: 3.56s\tremaining: 3.04s\n",
      "539:\tlearn: 0.0368935\ttotal: 3.56s\tremaining: 3.04s\n",
      "540:\tlearn: 0.0367903\ttotal: 3.57s\tremaining: 3.03s\n",
      "541:\tlearn: 0.0367093\ttotal: 3.57s\tremaining: 3.02s\n",
      "542:\tlearn: 0.0366064\ttotal: 3.58s\tremaining: 3.01s\n",
      "543:\tlearn: 0.0365341\ttotal: 3.58s\tremaining: 3s\n",
      "544:\tlearn: 0.0363534\ttotal: 3.58s\tremaining: 2.99s\n",
      "545:\tlearn: 0.0362644\ttotal: 3.59s\tremaining: 2.98s\n",
      "546:\tlearn: 0.0362035\ttotal: 3.6s\tremaining: 2.98s\n",
      "547:\tlearn: 0.0361308\ttotal: 3.6s\tremaining: 2.97s\n",
      "548:\tlearn: 0.0360720\ttotal: 3.61s\tremaining: 2.96s\n",
      "549:\tlearn: 0.0360012\ttotal: 3.61s\tremaining: 2.96s\n",
      "550:\tlearn: 0.0359251\ttotal: 3.62s\tremaining: 2.95s\n",
      "551:\tlearn: 0.0358731\ttotal: 3.62s\tremaining: 2.94s\n",
      "552:\tlearn: 0.0357588\ttotal: 3.62s\tremaining: 2.93s\n",
      "553:\tlearn: 0.0357034\ttotal: 3.63s\tremaining: 2.92s\n",
      "554:\tlearn: 0.0356273\ttotal: 3.63s\tremaining: 2.91s\n",
      "555:\tlearn: 0.0355500\ttotal: 3.64s\tremaining: 2.9s\n",
      "556:\tlearn: 0.0354588\ttotal: 3.64s\tremaining: 2.9s\n",
      "557:\tlearn: 0.0353794\ttotal: 3.65s\tremaining: 2.89s\n",
      "558:\tlearn: 0.0353035\ttotal: 3.65s\tremaining: 2.88s\n",
      "559:\tlearn: 0.0352382\ttotal: 3.65s\tremaining: 2.87s\n",
      "560:\tlearn: 0.0351279\ttotal: 3.66s\tremaining: 2.86s\n",
      "561:\tlearn: 0.0350516\ttotal: 3.67s\tremaining: 2.86s\n",
      "562:\tlearn: 0.0350032\ttotal: 3.67s\tremaining: 2.85s\n",
      "563:\tlearn: 0.0349128\ttotal: 3.68s\tremaining: 2.84s\n",
      "564:\tlearn: 0.0348612\ttotal: 3.68s\tremaining: 2.83s\n",
      "565:\tlearn: 0.0348186\ttotal: 3.68s\tremaining: 2.83s\n",
      "566:\tlearn: 0.0347150\ttotal: 3.69s\tremaining: 2.82s\n",
      "567:\tlearn: 0.0345961\ttotal: 3.7s\tremaining: 2.81s\n",
      "568:\tlearn: 0.0345170\ttotal: 3.7s\tremaining: 2.81s\n",
      "569:\tlearn: 0.0344370\ttotal: 3.71s\tremaining: 2.8s\n",
      "570:\tlearn: 0.0343698\ttotal: 3.71s\tremaining: 2.79s\n",
      "571:\tlearn: 0.0342559\ttotal: 3.71s\tremaining: 2.78s\n",
      "572:\tlearn: 0.0341803\ttotal: 3.72s\tremaining: 2.77s\n",
      "573:\tlearn: 0.0341066\ttotal: 3.72s\tremaining: 2.76s\n",
      "574:\tlearn: 0.0340544\ttotal: 3.73s\tremaining: 2.75s\n",
      "575:\tlearn: 0.0339938\ttotal: 3.73s\tremaining: 2.75s\n",
      "576:\tlearn: 0.0339065\ttotal: 3.73s\tremaining: 2.74s\n",
      "577:\tlearn: 0.0338319\ttotal: 3.74s\tremaining: 2.73s\n",
      "578:\tlearn: 0.0337821\ttotal: 3.74s\tremaining: 2.72s\n",
      "579:\tlearn: 0.0336797\ttotal: 3.74s\tremaining: 2.71s\n",
      "580:\tlearn: 0.0336301\ttotal: 3.75s\tremaining: 2.7s\n",
      "581:\tlearn: 0.0335518\ttotal: 3.75s\tremaining: 2.69s\n",
      "582:\tlearn: 0.0335250\ttotal: 3.76s\tremaining: 2.69s\n",
      "583:\tlearn: 0.0334721\ttotal: 3.76s\tremaining: 2.68s\n",
      "584:\tlearn: 0.0333875\ttotal: 3.77s\tremaining: 2.67s\n",
      "585:\tlearn: 0.0333217\ttotal: 3.77s\tremaining: 2.66s\n",
      "586:\tlearn: 0.0332605\ttotal: 3.78s\tremaining: 2.66s\n",
      "587:\tlearn: 0.0331796\ttotal: 3.79s\tremaining: 2.65s\n",
      "588:\tlearn: 0.0330945\ttotal: 3.79s\tremaining: 2.65s\n",
      "589:\tlearn: 0.0330195\ttotal: 3.79s\tremaining: 2.64s\n",
      "590:\tlearn: 0.0329469\ttotal: 3.8s\tremaining: 2.63s\n",
      "591:\tlearn: 0.0328924\ttotal: 3.8s\tremaining: 2.62s\n",
      "592:\tlearn: 0.0327862\ttotal: 3.81s\tremaining: 2.61s\n",
      "593:\tlearn: 0.0327284\ttotal: 3.81s\tremaining: 2.6s\n",
      "594:\tlearn: 0.0326492\ttotal: 3.81s\tremaining: 2.59s\n",
      "595:\tlearn: 0.0326080\ttotal: 3.82s\tremaining: 2.59s\n",
      "596:\tlearn: 0.0325412\ttotal: 3.82s\tremaining: 2.58s\n",
      "597:\tlearn: 0.0324621\ttotal: 3.83s\tremaining: 2.57s\n",
      "598:\tlearn: 0.0323969\ttotal: 3.83s\tremaining: 2.57s\n",
      "599:\tlearn: 0.0322958\ttotal: 3.84s\tremaining: 2.56s\n",
      "600:\tlearn: 0.0322441\ttotal: 3.85s\tremaining: 2.56s\n",
      "601:\tlearn: 0.0321304\ttotal: 3.85s\tremaining: 2.55s\n",
      "602:\tlearn: 0.0320727\ttotal: 3.86s\tremaining: 2.54s\n",
      "603:\tlearn: 0.0320127\ttotal: 3.87s\tremaining: 2.53s\n",
      "604:\tlearn: 0.0319576\ttotal: 3.87s\tremaining: 2.53s\n",
      "605:\tlearn: 0.0318890\ttotal: 3.87s\tremaining: 2.52s\n",
      "606:\tlearn: 0.0318026\ttotal: 3.88s\tremaining: 2.51s\n",
      "607:\tlearn: 0.0317449\ttotal: 3.88s\tremaining: 2.5s\n",
      "608:\tlearn: 0.0316608\ttotal: 3.89s\tremaining: 2.5s\n",
      "609:\tlearn: 0.0316292\ttotal: 3.89s\tremaining: 2.49s\n",
      "610:\tlearn: 0.0315884\ttotal: 3.9s\tremaining: 2.48s\n",
      "611:\tlearn: 0.0315511\ttotal: 3.9s\tremaining: 2.47s\n",
      "612:\tlearn: 0.0315073\ttotal: 3.9s\tremaining: 2.46s\n",
      "613:\tlearn: 0.0314260\ttotal: 3.9s\tremaining: 2.45s\n",
      "614:\tlearn: 0.0313858\ttotal: 3.91s\tremaining: 2.45s\n",
      "615:\tlearn: 0.0313459\ttotal: 3.92s\tremaining: 2.44s\n",
      "616:\tlearn: 0.0313021\ttotal: 3.92s\tremaining: 2.43s\n",
      "617:\tlearn: 0.0312421\ttotal: 3.92s\tremaining: 2.42s\n",
      "618:\tlearn: 0.0312107\ttotal: 3.93s\tremaining: 2.42s\n",
      "619:\tlearn: 0.0311404\ttotal: 3.93s\tremaining: 2.41s\n",
      "620:\tlearn: 0.0310965\ttotal: 3.93s\tremaining: 2.4s\n",
      "621:\tlearn: 0.0310325\ttotal: 3.94s\tremaining: 2.39s\n",
      "622:\tlearn: 0.0309806\ttotal: 3.94s\tremaining: 2.39s\n",
      "623:\tlearn: 0.0309264\ttotal: 3.95s\tremaining: 2.38s\n",
      "624:\tlearn: 0.0308137\ttotal: 3.95s\tremaining: 2.37s\n",
      "625:\tlearn: 0.0307560\ttotal: 3.96s\tremaining: 2.36s\n",
      "626:\tlearn: 0.0307311\ttotal: 3.96s\tremaining: 2.36s\n",
      "627:\tlearn: 0.0306593\ttotal: 3.97s\tremaining: 2.35s\n",
      "628:\tlearn: 0.0306222\ttotal: 3.98s\tremaining: 2.35s\n",
      "629:\tlearn: 0.0305553\ttotal: 3.99s\tremaining: 2.34s\n",
      "630:\tlearn: 0.0305238\ttotal: 3.99s\tremaining: 2.33s\n",
      "631:\tlearn: 0.0304593\ttotal: 3.99s\tremaining: 2.33s\n",
      "632:\tlearn: 0.0304186\ttotal: 4s\tremaining: 2.32s\n",
      "633:\tlearn: 0.0303869\ttotal: 4s\tremaining: 2.31s\n",
      "634:\tlearn: 0.0303431\ttotal: 4.01s\tremaining: 2.3s\n",
      "635:\tlearn: 0.0303029\ttotal: 4.01s\tremaining: 2.29s\n",
      "636:\tlearn: 0.0302533\ttotal: 4.01s\tremaining: 2.29s\n",
      "637:\tlearn: 0.0301908\ttotal: 4.02s\tremaining: 2.28s\n",
      "638:\tlearn: 0.0301263\ttotal: 4.03s\tremaining: 2.27s\n",
      "639:\tlearn: 0.0300757\ttotal: 4.03s\tremaining: 2.27s\n",
      "640:\tlearn: 0.0300158\ttotal: 4.04s\tremaining: 2.26s\n",
      "641:\tlearn: 0.0299691\ttotal: 4.04s\tremaining: 2.25s\n",
      "642:\tlearn: 0.0299077\ttotal: 4.05s\tremaining: 2.25s\n",
      "643:\tlearn: 0.0298419\ttotal: 4.05s\tremaining: 2.24s\n",
      "644:\tlearn: 0.0297929\ttotal: 4.06s\tremaining: 2.23s\n",
      "645:\tlearn: 0.0297256\ttotal: 4.06s\tremaining: 2.23s\n",
      "646:\tlearn: 0.0296820\ttotal: 4.08s\tremaining: 2.23s\n",
      "647:\tlearn: 0.0296036\ttotal: 4.08s\tremaining: 2.22s\n",
      "648:\tlearn: 0.0295488\ttotal: 4.09s\tremaining: 2.21s\n",
      "649:\tlearn: 0.0294929\ttotal: 4.09s\tremaining: 2.2s\n",
      "650:\tlearn: 0.0294360\ttotal: 4.09s\tremaining: 2.19s\n",
      "651:\tlearn: 0.0293943\ttotal: 4.1s\tremaining: 2.19s\n",
      "652:\tlearn: 0.0293446\ttotal: 4.1s\tremaining: 2.18s\n",
      "653:\tlearn: 0.0292328\ttotal: 4.11s\tremaining: 2.17s\n",
      "654:\tlearn: 0.0291862\ttotal: 4.11s\tremaining: 2.17s\n",
      "655:\tlearn: 0.0291211\ttotal: 4.11s\tremaining: 2.16s\n",
      "656:\tlearn: 0.0290315\ttotal: 4.12s\tremaining: 2.15s\n",
      "657:\tlearn: 0.0289993\ttotal: 4.12s\tremaining: 2.14s\n",
      "658:\tlearn: 0.0289772\ttotal: 4.12s\tremaining: 2.13s\n",
      "659:\tlearn: 0.0289409\ttotal: 4.13s\tremaining: 2.13s\n",
      "660:\tlearn: 0.0288946\ttotal: 4.13s\tremaining: 2.12s\n",
      "661:\tlearn: 0.0288519\ttotal: 4.14s\tremaining: 2.11s\n",
      "662:\tlearn: 0.0287894\ttotal: 4.14s\tremaining: 2.1s\n",
      "663:\tlearn: 0.0287547\ttotal: 4.14s\tremaining: 2.1s\n",
      "664:\tlearn: 0.0286788\ttotal: 4.15s\tremaining: 2.09s\n",
      "665:\tlearn: 0.0285676\ttotal: 4.15s\tremaining: 2.08s\n",
      "666:\tlearn: 0.0285216\ttotal: 4.16s\tremaining: 2.08s\n",
      "667:\tlearn: 0.0284731\ttotal: 4.17s\tremaining: 2.07s\n",
      "668:\tlearn: 0.0283892\ttotal: 4.17s\tremaining: 2.06s\n",
      "669:\tlearn: 0.0283513\ttotal: 4.18s\tremaining: 2.06s\n",
      "670:\tlearn: 0.0283093\ttotal: 4.18s\tremaining: 2.05s\n",
      "671:\tlearn: 0.0281779\ttotal: 4.18s\tremaining: 2.04s\n",
      "672:\tlearn: 0.0281359\ttotal: 4.19s\tremaining: 2.03s\n",
      "673:\tlearn: 0.0280323\ttotal: 4.19s\tremaining: 2.03s\n",
      "674:\tlearn: 0.0279756\ttotal: 4.2s\tremaining: 2.02s\n",
      "675:\tlearn: 0.0279351\ttotal: 4.2s\tremaining: 2.01s\n",
      "676:\tlearn: 0.0279107\ttotal: 4.21s\tremaining: 2.01s\n",
      "677:\tlearn: 0.0278625\ttotal: 4.21s\tremaining: 2s\n",
      "678:\tlearn: 0.0278047\ttotal: 4.21s\tremaining: 1.99s\n",
      "679:\tlearn: 0.0277101\ttotal: 4.22s\tremaining: 1.99s\n",
      "680:\tlearn: 0.0276787\ttotal: 4.23s\tremaining: 1.98s\n",
      "681:\tlearn: 0.0276113\ttotal: 4.23s\tremaining: 1.97s\n",
      "682:\tlearn: 0.0275548\ttotal: 4.24s\tremaining: 1.97s\n",
      "683:\tlearn: 0.0275209\ttotal: 4.25s\tremaining: 1.96s\n",
      "684:\tlearn: 0.0274885\ttotal: 4.25s\tremaining: 1.96s\n",
      "685:\tlearn: 0.0274585\ttotal: 4.26s\tremaining: 1.95s\n",
      "686:\tlearn: 0.0274231\ttotal: 4.26s\tremaining: 1.94s\n",
      "687:\tlearn: 0.0273796\ttotal: 4.27s\tremaining: 1.94s\n",
      "688:\tlearn: 0.0273095\ttotal: 4.27s\tremaining: 1.93s\n",
      "689:\tlearn: 0.0272561\ttotal: 4.28s\tremaining: 1.92s\n",
      "690:\tlearn: 0.0271992\ttotal: 4.28s\tremaining: 1.91s\n",
      "691:\tlearn: 0.0271771\ttotal: 4.28s\tremaining: 1.91s\n",
      "692:\tlearn: 0.0271324\ttotal: 4.29s\tremaining: 1.9s\n",
      "693:\tlearn: 0.0270817\ttotal: 4.29s\tremaining: 1.89s\n",
      "694:\tlearn: 0.0270232\ttotal: 4.3s\tremaining: 1.89s\n",
      "695:\tlearn: 0.0269478\ttotal: 4.3s\tremaining: 1.88s\n",
      "696:\tlearn: 0.0268953\ttotal: 4.3s\tremaining: 1.87s\n",
      "697:\tlearn: 0.0268586\ttotal: 4.31s\tremaining: 1.86s\n",
      "698:\tlearn: 0.0268116\ttotal: 4.31s\tremaining: 1.86s\n",
      "699:\tlearn: 0.0267660\ttotal: 4.32s\tremaining: 1.85s\n",
      "700:\tlearn: 0.0267252\ttotal: 4.32s\tremaining: 1.84s\n",
      "701:\tlearn: 0.0266665\ttotal: 4.32s\tremaining: 1.83s\n",
      "702:\tlearn: 0.0266349\ttotal: 4.33s\tremaining: 1.83s\n",
      "703:\tlearn: 0.0265998\ttotal: 4.33s\tremaining: 1.82s\n",
      "704:\tlearn: 0.0265530\ttotal: 4.33s\tremaining: 1.81s\n",
      "705:\tlearn: 0.0264941\ttotal: 4.34s\tremaining: 1.81s\n"
     ]
    },
    {
     "name": "stdout",
     "output_type": "stream",
     "text": [
      "706:\tlearn: 0.0264249\ttotal: 4.34s\tremaining: 1.8s\n",
      "707:\tlearn: 0.0263685\ttotal: 4.35s\tremaining: 1.79s\n",
      "708:\tlearn: 0.0263121\ttotal: 4.36s\tremaining: 1.79s\n",
      "709:\tlearn: 0.0262560\ttotal: 4.37s\tremaining: 1.78s\n",
      "710:\tlearn: 0.0262121\ttotal: 4.37s\tremaining: 1.78s\n",
      "711:\tlearn: 0.0261595\ttotal: 4.37s\tremaining: 1.77s\n",
      "712:\tlearn: 0.0261128\ttotal: 4.38s\tremaining: 1.76s\n",
      "713:\tlearn: 0.0260781\ttotal: 4.38s\tremaining: 1.76s\n",
      "714:\tlearn: 0.0260043\ttotal: 4.39s\tremaining: 1.75s\n",
      "715:\tlearn: 0.0259599\ttotal: 4.39s\tremaining: 1.74s\n",
      "716:\tlearn: 0.0258838\ttotal: 4.4s\tremaining: 1.74s\n",
      "717:\tlearn: 0.0258265\ttotal: 4.4s\tremaining: 1.73s\n",
      "718:\tlearn: 0.0257653\ttotal: 4.41s\tremaining: 1.72s\n",
      "719:\tlearn: 0.0257376\ttotal: 4.42s\tremaining: 1.72s\n",
      "720:\tlearn: 0.0256838\ttotal: 4.42s\tremaining: 1.71s\n",
      "721:\tlearn: 0.0256275\ttotal: 4.43s\tremaining: 1.7s\n",
      "722:\tlearn: 0.0255809\ttotal: 4.43s\tremaining: 1.7s\n",
      "723:\tlearn: 0.0255501\ttotal: 4.43s\tremaining: 1.69s\n",
      "724:\tlearn: 0.0255212\ttotal: 4.44s\tremaining: 1.69s\n",
      "725:\tlearn: 0.0254641\ttotal: 4.45s\tremaining: 1.68s\n",
      "726:\tlearn: 0.0254320\ttotal: 4.45s\tremaining: 1.67s\n",
      "727:\tlearn: 0.0253735\ttotal: 4.46s\tremaining: 1.67s\n",
      "728:\tlearn: 0.0253383\ttotal: 4.46s\tremaining: 1.66s\n",
      "729:\tlearn: 0.0252934\ttotal: 4.46s\tremaining: 1.65s\n",
      "730:\tlearn: 0.0252613\ttotal: 4.47s\tremaining: 1.64s\n",
      "731:\tlearn: 0.0252162\ttotal: 4.47s\tremaining: 1.64s\n",
      "732:\tlearn: 0.0251458\ttotal: 4.48s\tremaining: 1.63s\n",
      "733:\tlearn: 0.0250832\ttotal: 4.48s\tremaining: 1.62s\n",
      "734:\tlearn: 0.0250282\ttotal: 4.49s\tremaining: 1.62s\n",
      "735:\tlearn: 0.0249852\ttotal: 4.49s\tremaining: 1.61s\n",
      "736:\tlearn: 0.0249516\ttotal: 4.49s\tremaining: 1.6s\n",
      "737:\tlearn: 0.0248875\ttotal: 4.5s\tremaining: 1.59s\n",
      "738:\tlearn: 0.0248549\ttotal: 4.5s\tremaining: 1.59s\n",
      "739:\tlearn: 0.0248307\ttotal: 4.5s\tremaining: 1.58s\n",
      "740:\tlearn: 0.0247973\ttotal: 4.5s\tremaining: 1.57s\n",
      "741:\tlearn: 0.0247484\ttotal: 4.51s\tremaining: 1.57s\n",
      "742:\tlearn: 0.0247005\ttotal: 4.51s\tremaining: 1.56s\n",
      "743:\tlearn: 0.0246509\ttotal: 4.52s\tremaining: 1.55s\n",
      "744:\tlearn: 0.0245896\ttotal: 4.52s\tremaining: 1.55s\n",
      "745:\tlearn: 0.0245655\ttotal: 4.52s\tremaining: 1.54s\n",
      "746:\tlearn: 0.0245270\ttotal: 4.53s\tremaining: 1.53s\n",
      "747:\tlearn: 0.0244765\ttotal: 4.53s\tremaining: 1.52s\n",
      "748:\tlearn: 0.0244480\ttotal: 4.53s\tremaining: 1.52s\n",
      "749:\tlearn: 0.0244246\ttotal: 4.54s\tremaining: 1.51s\n",
      "750:\tlearn: 0.0243837\ttotal: 4.55s\tremaining: 1.51s\n",
      "751:\tlearn: 0.0243718\ttotal: 4.55s\tremaining: 1.5s\n",
      "752:\tlearn: 0.0243022\ttotal: 4.56s\tremaining: 1.5s\n",
      "753:\tlearn: 0.0242673\ttotal: 4.56s\tremaining: 1.49s\n",
      "754:\tlearn: 0.0242463\ttotal: 4.56s\tremaining: 1.48s\n",
      "755:\tlearn: 0.0242241\ttotal: 4.57s\tremaining: 1.48s\n",
      "756:\tlearn: 0.0241950\ttotal: 4.58s\tremaining: 1.47s\n",
      "757:\tlearn: 0.0241573\ttotal: 4.58s\tremaining: 1.46s\n",
      "758:\tlearn: 0.0241173\ttotal: 4.59s\tremaining: 1.46s\n",
      "759:\tlearn: 0.0240803\ttotal: 4.59s\tremaining: 1.45s\n",
      "760:\tlearn: 0.0240132\ttotal: 4.6s\tremaining: 1.45s\n",
      "761:\tlearn: 0.0239840\ttotal: 4.61s\tremaining: 1.44s\n",
      "762:\tlearn: 0.0239201\ttotal: 4.61s\tremaining: 1.43s\n",
      "763:\tlearn: 0.0238910\ttotal: 4.62s\tremaining: 1.43s\n",
      "764:\tlearn: 0.0238601\ttotal: 4.62s\tremaining: 1.42s\n",
      "765:\tlearn: 0.0238328\ttotal: 4.63s\tremaining: 1.41s\n",
      "766:\tlearn: 0.0238068\ttotal: 4.63s\tremaining: 1.41s\n",
      "767:\tlearn: 0.0237920\ttotal: 4.64s\tremaining: 1.4s\n",
      "768:\tlearn: 0.0237496\ttotal: 4.65s\tremaining: 1.4s\n",
      "769:\tlearn: 0.0237106\ttotal: 4.65s\tremaining: 1.39s\n",
      "770:\tlearn: 0.0236865\ttotal: 4.65s\tremaining: 1.38s\n",
      "771:\tlearn: 0.0236470\ttotal: 4.66s\tremaining: 1.37s\n",
      "772:\tlearn: 0.0236274\ttotal: 4.66s\tremaining: 1.37s\n",
      "773:\tlearn: 0.0235931\ttotal: 4.67s\tremaining: 1.36s\n",
      "774:\tlearn: 0.0235383\ttotal: 4.67s\tremaining: 1.36s\n",
      "775:\tlearn: 0.0234713\ttotal: 4.67s\tremaining: 1.35s\n",
      "776:\tlearn: 0.0234505\ttotal: 4.68s\tremaining: 1.34s\n",
      "777:\tlearn: 0.0234016\ttotal: 4.68s\tremaining: 1.34s\n",
      "778:\tlearn: 0.0233610\ttotal: 4.69s\tremaining: 1.33s\n",
      "779:\tlearn: 0.0232983\ttotal: 4.69s\tremaining: 1.32s\n",
      "780:\tlearn: 0.0232870\ttotal: 4.7s\tremaining: 1.32s\n",
      "781:\tlearn: 0.0232591\ttotal: 4.7s\tremaining: 1.31s\n",
      "782:\tlearn: 0.0232075\ttotal: 4.71s\tremaining: 1.3s\n",
      "783:\tlearn: 0.0231799\ttotal: 4.71s\tremaining: 1.3s\n",
      "784:\tlearn: 0.0231184\ttotal: 4.71s\tremaining: 1.29s\n",
      "785:\tlearn: 0.0230986\ttotal: 4.72s\tremaining: 1.28s\n",
      "786:\tlearn: 0.0230494\ttotal: 4.72s\tremaining: 1.28s\n",
      "787:\tlearn: 0.0229963\ttotal: 4.73s\tremaining: 1.27s\n",
      "788:\tlearn: 0.0229743\ttotal: 4.73s\tremaining: 1.26s\n",
      "789:\tlearn: 0.0229465\ttotal: 4.74s\tremaining: 1.26s\n",
      "790:\tlearn: 0.0229044\ttotal: 4.74s\tremaining: 1.25s\n",
      "791:\tlearn: 0.0228737\ttotal: 4.75s\tremaining: 1.25s\n",
      "792:\tlearn: 0.0228399\ttotal: 4.75s\tremaining: 1.24s\n",
      "793:\tlearn: 0.0228190\ttotal: 4.75s\tremaining: 1.23s\n",
      "794:\tlearn: 0.0227592\ttotal: 4.76s\tremaining: 1.23s\n",
      "795:\tlearn: 0.0227116\ttotal: 4.76s\tremaining: 1.22s\n",
      "796:\tlearn: 0.0226778\ttotal: 4.77s\tremaining: 1.21s\n",
      "797:\tlearn: 0.0226479\ttotal: 4.77s\tremaining: 1.21s\n",
      "798:\tlearn: 0.0226035\ttotal: 4.78s\tremaining: 1.2s\n",
      "799:\tlearn: 0.0225657\ttotal: 4.78s\tremaining: 1.2s\n",
      "800:\tlearn: 0.0225306\ttotal: 4.79s\tremaining: 1.19s\n",
      "801:\tlearn: 0.0225116\ttotal: 4.79s\tremaining: 1.18s\n",
      "802:\tlearn: 0.0224561\ttotal: 4.8s\tremaining: 1.18s\n",
      "803:\tlearn: 0.0224262\ttotal: 4.8s\tremaining: 1.17s\n",
      "804:\tlearn: 0.0223854\ttotal: 4.81s\tremaining: 1.16s\n",
      "805:\tlearn: 0.0223708\ttotal: 4.81s\tremaining: 1.16s\n",
      "806:\tlearn: 0.0223477\ttotal: 4.82s\tremaining: 1.15s\n",
      "807:\tlearn: 0.0222915\ttotal: 4.82s\tremaining: 1.15s\n",
      "808:\tlearn: 0.0222489\ttotal: 4.83s\tremaining: 1.14s\n",
      "809:\tlearn: 0.0222017\ttotal: 4.83s\tremaining: 1.13s\n",
      "810:\tlearn: 0.0221465\ttotal: 4.84s\tremaining: 1.13s\n",
      "811:\tlearn: 0.0221149\ttotal: 4.84s\tremaining: 1.12s\n",
      "812:\tlearn: 0.0220832\ttotal: 4.84s\tremaining: 1.11s\n",
      "813:\tlearn: 0.0220510\ttotal: 4.85s\tremaining: 1.11s\n",
      "814:\tlearn: 0.0220257\ttotal: 4.86s\tremaining: 1.1s\n",
      "815:\tlearn: 0.0219936\ttotal: 4.86s\tremaining: 1.09s\n",
      "816:\tlearn: 0.0219271\ttotal: 4.86s\tremaining: 1.09s\n",
      "817:\tlearn: 0.0218978\ttotal: 4.87s\tremaining: 1.08s\n",
      "818:\tlearn: 0.0218374\ttotal: 4.87s\tremaining: 1.07s\n",
      "819:\tlearn: 0.0217920\ttotal: 4.87s\tremaining: 1.07s\n",
      "820:\tlearn: 0.0217539\ttotal: 4.87s\tremaining: 1.06s\n",
      "821:\tlearn: 0.0217387\ttotal: 4.88s\tremaining: 1.06s\n",
      "822:\tlearn: 0.0217046\ttotal: 4.88s\tremaining: 1.05s\n",
      "823:\tlearn: 0.0216903\ttotal: 4.89s\tremaining: 1.04s\n",
      "824:\tlearn: 0.0216490\ttotal: 4.89s\tremaining: 1.04s\n",
      "825:\tlearn: 0.0216026\ttotal: 4.9s\tremaining: 1.03s\n",
      "826:\tlearn: 0.0215622\ttotal: 4.9s\tremaining: 1.02s\n",
      "827:\tlearn: 0.0215119\ttotal: 4.9s\tremaining: 1.02s\n",
      "828:\tlearn: 0.0214822\ttotal: 4.91s\tremaining: 1.01s\n",
      "829:\tlearn: 0.0214431\ttotal: 4.91s\tremaining: 1.01s\n",
      "830:\tlearn: 0.0214181\ttotal: 4.92s\tremaining: 1s\n",
      "831:\tlearn: 0.0213942\ttotal: 4.93s\tremaining: 996ms\n",
      "832:\tlearn: 0.0213448\ttotal: 4.95s\tremaining: 992ms\n",
      "833:\tlearn: 0.0213164\ttotal: 4.95s\tremaining: 986ms\n",
      "834:\tlearn: 0.0212940\ttotal: 4.97s\tremaining: 981ms\n",
      "835:\tlearn: 0.0212729\ttotal: 4.97s\tremaining: 975ms\n",
      "836:\tlearn: 0.0212525\ttotal: 4.99s\tremaining: 972ms\n",
      "837:\tlearn: 0.0212404\ttotal: 4.99s\tremaining: 965ms\n",
      "838:\tlearn: 0.0212213\ttotal: 5s\tremaining: 959ms\n",
      "839:\tlearn: 0.0212018\ttotal: 5s\tremaining: 953ms\n",
      "840:\tlearn: 0.0211696\ttotal: 5s\tremaining: 946ms\n",
      "841:\tlearn: 0.0211304\ttotal: 5.01s\tremaining: 940ms\n",
      "842:\tlearn: 0.0210972\ttotal: 5.01s\tremaining: 934ms\n",
      "843:\tlearn: 0.0210730\ttotal: 5.01s\tremaining: 927ms\n",
      "844:\tlearn: 0.0210387\ttotal: 5.02s\tremaining: 921ms\n",
      "845:\tlearn: 0.0210080\ttotal: 5.02s\tremaining: 914ms\n",
      "846:\tlearn: 0.0209704\ttotal: 5.03s\tremaining: 908ms\n",
      "847:\tlearn: 0.0209502\ttotal: 5.04s\tremaining: 903ms\n",
      "848:\tlearn: 0.0209132\ttotal: 5.04s\tremaining: 896ms\n",
      "849:\tlearn: 0.0208831\ttotal: 5.04s\tremaining: 890ms\n",
      "850:\tlearn: 0.0208506\ttotal: 5.05s\tremaining: 884ms\n",
      "851:\tlearn: 0.0208333\ttotal: 5.06s\tremaining: 879ms\n",
      "852:\tlearn: 0.0208111\ttotal: 5.07s\tremaining: 874ms\n",
      "853:\tlearn: 0.0207744\ttotal: 5.07s\tremaining: 867ms\n",
      "854:\tlearn: 0.0207462\ttotal: 5.08s\tremaining: 861ms\n",
      "855:\tlearn: 0.0207192\ttotal: 5.08s\tremaining: 855ms\n",
      "856:\tlearn: 0.0206597\ttotal: 5.1s\tremaining: 851ms\n",
      "857:\tlearn: 0.0206173\ttotal: 5.13s\tremaining: 849ms\n",
      "858:\tlearn: 0.0205908\ttotal: 5.14s\tremaining: 844ms\n",
      "859:\tlearn: 0.0205560\ttotal: 5.15s\tremaining: 838ms\n",
      "860:\tlearn: 0.0205312\ttotal: 5.16s\tremaining: 833ms\n",
      "861:\tlearn: 0.0205003\ttotal: 5.17s\tremaining: 828ms\n",
      "862:\tlearn: 0.0204687\ttotal: 5.18s\tremaining: 822ms\n",
      "863:\tlearn: 0.0204398\ttotal: 5.19s\tremaining: 817ms\n",
      "864:\tlearn: 0.0204272\ttotal: 5.2s\tremaining: 811ms\n",
      "865:\tlearn: 0.0204078\ttotal: 5.2s\tremaining: 805ms\n",
      "866:\tlearn: 0.0203801\ttotal: 5.21s\tremaining: 799ms\n",
      "867:\tlearn: 0.0203581\ttotal: 5.22s\tremaining: 794ms\n",
      "868:\tlearn: 0.0203300\ttotal: 5.23s\tremaining: 788ms\n",
      "869:\tlearn: 0.0203130\ttotal: 5.23s\tremaining: 782ms\n",
      "870:\tlearn: 0.0203020\ttotal: 5.24s\tremaining: 776ms\n",
      "871:\tlearn: 0.0202691\ttotal: 5.24s\tremaining: 769ms\n",
      "872:\tlearn: 0.0202603\ttotal: 5.25s\tremaining: 763ms\n",
      "873:\tlearn: 0.0202445\ttotal: 5.25s\tremaining: 757ms\n",
      "874:\tlearn: 0.0202169\ttotal: 5.26s\tremaining: 752ms\n",
      "875:\tlearn: 0.0201883\ttotal: 5.27s\tremaining: 745ms\n",
      "876:\tlearn: 0.0201728\ttotal: 5.27s\tremaining: 739ms\n",
      "877:\tlearn: 0.0201133\ttotal: 5.27s\tremaining: 733ms\n",
      "878:\tlearn: 0.0200917\ttotal: 5.28s\tremaining: 726ms\n",
      "879:\tlearn: 0.0200712\ttotal: 5.28s\tremaining: 720ms\n",
      "880:\tlearn: 0.0200005\ttotal: 5.29s\tremaining: 715ms\n",
      "881:\tlearn: 0.0199762\ttotal: 5.29s\tremaining: 709ms\n",
      "882:\tlearn: 0.0199396\ttotal: 5.31s\tremaining: 704ms\n"
     ]
    },
    {
     "name": "stdout",
     "output_type": "stream",
     "text": [
      "883:\tlearn: 0.0199149\ttotal: 5.34s\tremaining: 701ms\n",
      "884:\tlearn: 0.0198994\ttotal: 5.35s\tremaining: 695ms\n",
      "885:\tlearn: 0.0198624\ttotal: 5.36s\tremaining: 690ms\n",
      "886:\tlearn: 0.0198414\ttotal: 5.37s\tremaining: 684ms\n",
      "887:\tlearn: 0.0198101\ttotal: 5.38s\tremaining: 678ms\n",
      "888:\tlearn: 0.0197947\ttotal: 5.38s\tremaining: 672ms\n",
      "889:\tlearn: 0.0197392\ttotal: 5.39s\tremaining: 666ms\n",
      "890:\tlearn: 0.0197247\ttotal: 5.39s\tremaining: 660ms\n",
      "891:\tlearn: 0.0197007\ttotal: 5.39s\tremaining: 653ms\n",
      "892:\tlearn: 0.0196485\ttotal: 5.4s\tremaining: 647ms\n",
      "893:\tlearn: 0.0196341\ttotal: 5.41s\tremaining: 641ms\n",
      "894:\tlearn: 0.0196122\ttotal: 5.41s\tremaining: 635ms\n",
      "895:\tlearn: 0.0195888\ttotal: 5.42s\tremaining: 629ms\n",
      "896:\tlearn: 0.0195619\ttotal: 5.42s\tremaining: 623ms\n",
      "897:\tlearn: 0.0195402\ttotal: 5.43s\tremaining: 617ms\n",
      "898:\tlearn: 0.0195101\ttotal: 5.43s\tremaining: 611ms\n",
      "899:\tlearn: 0.0194658\ttotal: 5.44s\tremaining: 605ms\n",
      "900:\tlearn: 0.0194475\ttotal: 5.45s\tremaining: 599ms\n",
      "901:\tlearn: 0.0194214\ttotal: 5.45s\tremaining: 592ms\n",
      "902:\tlearn: 0.0193731\ttotal: 5.47s\tremaining: 588ms\n",
      "903:\tlearn: 0.0193393\ttotal: 5.47s\tremaining: 581ms\n",
      "904:\tlearn: 0.0193081\ttotal: 5.49s\tremaining: 576ms\n",
      "905:\tlearn: 0.0192634\ttotal: 5.49s\tremaining: 570ms\n",
      "906:\tlearn: 0.0192321\ttotal: 5.5s\tremaining: 564ms\n",
      "907:\tlearn: 0.0192010\ttotal: 5.5s\tremaining: 558ms\n",
      "908:\tlearn: 0.0191771\ttotal: 5.51s\tremaining: 552ms\n",
      "909:\tlearn: 0.0191467\ttotal: 5.51s\tremaining: 545ms\n",
      "910:\tlearn: 0.0191191\ttotal: 5.53s\tremaining: 541ms\n",
      "911:\tlearn: 0.0190909\ttotal: 5.54s\tremaining: 534ms\n",
      "912:\tlearn: 0.0190566\ttotal: 5.54s\tremaining: 528ms\n",
      "913:\tlearn: 0.0190311\ttotal: 5.56s\tremaining: 524ms\n",
      "914:\tlearn: 0.0190105\ttotal: 5.57s\tremaining: 518ms\n",
      "915:\tlearn: 0.0189679\ttotal: 5.58s\tremaining: 512ms\n",
      "916:\tlearn: 0.0189345\ttotal: 5.59s\tremaining: 506ms\n",
      "917:\tlearn: 0.0189178\ttotal: 5.6s\tremaining: 500ms\n",
      "918:\tlearn: 0.0188902\ttotal: 5.6s\tremaining: 494ms\n",
      "919:\tlearn: 0.0188574\ttotal: 5.6s\tremaining: 487ms\n",
      "920:\tlearn: 0.0188129\ttotal: 5.61s\tremaining: 481ms\n",
      "921:\tlearn: 0.0187965\ttotal: 5.61s\tremaining: 475ms\n",
      "922:\tlearn: 0.0187507\ttotal: 5.62s\tremaining: 469ms\n",
      "923:\tlearn: 0.0187280\ttotal: 5.63s\tremaining: 463ms\n",
      "924:\tlearn: 0.0186990\ttotal: 5.64s\tremaining: 457ms\n",
      "925:\tlearn: 0.0186721\ttotal: 5.66s\tremaining: 452ms\n",
      "926:\tlearn: 0.0186574\ttotal: 5.67s\tremaining: 446ms\n",
      "927:\tlearn: 0.0186379\ttotal: 5.68s\tremaining: 441ms\n",
      "928:\tlearn: 0.0186177\ttotal: 5.68s\tremaining: 435ms\n",
      "929:\tlearn: 0.0185845\ttotal: 5.69s\tremaining: 429ms\n",
      "930:\tlearn: 0.0185588\ttotal: 5.7s\tremaining: 422ms\n",
      "931:\tlearn: 0.0185427\ttotal: 5.7s\tremaining: 416ms\n",
      "932:\tlearn: 0.0184995\ttotal: 5.7s\tremaining: 410ms\n",
      "933:\tlearn: 0.0184699\ttotal: 5.71s\tremaining: 404ms\n",
      "934:\tlearn: 0.0184495\ttotal: 5.71s\tremaining: 397ms\n",
      "935:\tlearn: 0.0184273\ttotal: 5.72s\tremaining: 391ms\n",
      "936:\tlearn: 0.0183730\ttotal: 5.72s\tremaining: 385ms\n",
      "937:\tlearn: 0.0183504\ttotal: 5.73s\tremaining: 379ms\n",
      "938:\tlearn: 0.0183006\ttotal: 5.74s\tremaining: 373ms\n",
      "939:\tlearn: 0.0182613\ttotal: 5.75s\tremaining: 367ms\n",
      "940:\tlearn: 0.0182514\ttotal: 5.76s\tremaining: 361ms\n",
      "941:\tlearn: 0.0181963\ttotal: 5.77s\tremaining: 355ms\n",
      "942:\tlearn: 0.0181387\ttotal: 5.77s\tremaining: 349ms\n",
      "943:\tlearn: 0.0181220\ttotal: 5.78s\tremaining: 343ms\n",
      "944:\tlearn: 0.0181014\ttotal: 5.79s\tremaining: 337ms\n",
      "945:\tlearn: 0.0180908\ttotal: 5.79s\tremaining: 330ms\n",
      "946:\tlearn: 0.0180614\ttotal: 5.79s\tremaining: 324ms\n",
      "947:\tlearn: 0.0180327\ttotal: 5.8s\tremaining: 318ms\n",
      "948:\tlearn: 0.0180102\ttotal: 5.8s\tremaining: 312ms\n",
      "949:\tlearn: 0.0179908\ttotal: 5.8s\tremaining: 305ms\n",
      "950:\tlearn: 0.0179621\ttotal: 5.81s\tremaining: 299ms\n",
      "951:\tlearn: 0.0179422\ttotal: 5.81s\tremaining: 293ms\n",
      "952:\tlearn: 0.0179165\ttotal: 5.82s\tremaining: 287ms\n",
      "953:\tlearn: 0.0178820\ttotal: 5.82s\tremaining: 281ms\n",
      "954:\tlearn: 0.0178525\ttotal: 5.83s\tremaining: 275ms\n",
      "955:\tlearn: 0.0178262\ttotal: 5.83s\tremaining: 268ms\n",
      "956:\tlearn: 0.0177762\ttotal: 5.83s\tremaining: 262ms\n",
      "957:\tlearn: 0.0177548\ttotal: 5.84s\tremaining: 256ms\n",
      "958:\tlearn: 0.0177264\ttotal: 5.85s\tremaining: 250ms\n",
      "959:\tlearn: 0.0177162\ttotal: 5.85s\tremaining: 244ms\n",
      "960:\tlearn: 0.0176939\ttotal: 5.86s\tremaining: 238ms\n",
      "961:\tlearn: 0.0176759\ttotal: 5.86s\tremaining: 232ms\n",
      "962:\tlearn: 0.0176583\ttotal: 5.87s\tremaining: 225ms\n",
      "963:\tlearn: 0.0176422\ttotal: 5.87s\tremaining: 219ms\n",
      "964:\tlearn: 0.0176228\ttotal: 5.88s\tremaining: 213ms\n",
      "965:\tlearn: 0.0175975\ttotal: 5.88s\tremaining: 207ms\n",
      "966:\tlearn: 0.0175773\ttotal: 5.88s\tremaining: 201ms\n",
      "967:\tlearn: 0.0175624\ttotal: 5.89s\tremaining: 195ms\n",
      "968:\tlearn: 0.0175545\ttotal: 5.89s\tremaining: 188ms\n",
      "969:\tlearn: 0.0175208\ttotal: 5.89s\tremaining: 182ms\n",
      "970:\tlearn: 0.0175042\ttotal: 5.9s\tremaining: 176ms\n",
      "971:\tlearn: 0.0174861\ttotal: 5.9s\tremaining: 170ms\n",
      "972:\tlearn: 0.0174624\ttotal: 5.91s\tremaining: 164ms\n",
      "973:\tlearn: 0.0174364\ttotal: 5.91s\tremaining: 158ms\n",
      "974:\tlearn: 0.0174144\ttotal: 5.91s\tremaining: 152ms\n",
      "975:\tlearn: 0.0173945\ttotal: 5.92s\tremaining: 145ms\n",
      "976:\tlearn: 0.0173724\ttotal: 5.92s\tremaining: 139ms\n",
      "977:\tlearn: 0.0173184\ttotal: 5.92s\tremaining: 133ms\n",
      "978:\tlearn: 0.0173003\ttotal: 5.94s\tremaining: 127ms\n",
      "979:\tlearn: 0.0172646\ttotal: 5.95s\tremaining: 121ms\n",
      "980:\tlearn: 0.0172411\ttotal: 5.95s\tremaining: 115ms\n",
      "981:\tlearn: 0.0172167\ttotal: 5.96s\tremaining: 109ms\n",
      "982:\tlearn: 0.0171985\ttotal: 5.96s\tremaining: 103ms\n",
      "983:\tlearn: 0.0171762\ttotal: 5.96s\tremaining: 97ms\n",
      "984:\tlearn: 0.0171559\ttotal: 5.97s\tremaining: 90.9ms\n",
      "985:\tlearn: 0.0171149\ttotal: 5.97s\tremaining: 84.8ms\n",
      "986:\tlearn: 0.0170984\ttotal: 5.98s\tremaining: 78.7ms\n",
      "987:\tlearn: 0.0170718\ttotal: 5.98s\tremaining: 72.6ms\n",
      "988:\tlearn: 0.0170549\ttotal: 5.98s\tremaining: 66.6ms\n",
      "989:\tlearn: 0.0170251\ttotal: 5.99s\tremaining: 60.5ms\n",
      "990:\tlearn: 0.0170044\ttotal: 5.99s\tremaining: 54.4ms\n",
      "991:\tlearn: 0.0169764\ttotal: 6s\tremaining: 48.4ms\n",
      "992:\tlearn: 0.0169635\ttotal: 6s\tremaining: 42.3ms\n",
      "993:\tlearn: 0.0169405\ttotal: 6s\tremaining: 36.3ms\n",
      "994:\tlearn: 0.0169210\ttotal: 6.01s\tremaining: 30.2ms\n",
      "995:\tlearn: 0.0169047\ttotal: 6.01s\tremaining: 24.2ms\n",
      "996:\tlearn: 0.0168874\ttotal: 6.02s\tremaining: 18.1ms\n",
      "997:\tlearn: 0.0168716\ttotal: 6.02s\tremaining: 12.1ms\n",
      "998:\tlearn: 0.0168431\ttotal: 6.03s\tremaining: 6.04ms\n",
      "999:\tlearn: 0.0168240\ttotal: 6.04s\tremaining: 0us\n"
     ]
    },
    {
     "data": {
      "text/plain": [
       "array([[162,   5,   0,   0],\n",
       "       [  3, 159,   4,   0],\n",
       "       [  0,  10, 151,   6],\n",
       "       [  0,   0,   8, 159]])"
      ]
     },
     "metadata": {},
     "output_type": "display_data"
    },
    {
     "name": "stdout",
     "output_type": "stream",
     "text": [
      "0.9460269865067467\n",
      "0.9464070042502453\n",
      "0.9460446576726066\n",
      "0.9460451431394026\n"
     ]
    }
   ],
   "source": [
    "model8=CatBoostClassifier()\n",
    "model8.fit(X_train, y_train)\n",
    "y_pred8 = model8.predict(X_test)\n",
    "display(confusion_matrix(y_test, y_pred8))\n",
    "print(accuracy_score(y_test, y_pred8))\n",
    "print(precision_score(y_test, y_pred8,average='macro'))\n",
    "print(recall_score(y_test, y_pred8,average='macro'))\n",
    "print(f1_score(y_test, y_pred8,average='macro'))\n"
   ]
  },
  {
   "cell_type": "code",
   "execution_count": 43,
   "metadata": {},
   "outputs": [
    {
     "name": "stdout",
     "output_type": "stream",
     "text": [
      "0.9580209895052474\n",
      "0.9584577024809005\n",
      "0.958047759901883\n",
      "0.9580316696299196\n"
     ]
    }
   ],
   "source": [
    "print(accuracy_score(y_test, y_pred3))\n",
    "print(precision_score(y_test, y_pred3,average='macro'))\n",
    "print(recall_score(y_test, y_pred3,average='macro'))\n",
    "print(f1_score(y_test, y_pred3,average='macro'))"
   ]
  },
  {
   "cell_type": "code",
   "execution_count": null,
   "metadata": {},
   "outputs": [],
   "source": []
  },
  {
   "cell_type": "code",
   "execution_count": 44,
   "metadata": {},
   "outputs": [
    {
     "data": {
      "text/plain": [
       "array([15.5456879 ,  0.11234122,  1.15284414,  0.17279132,  0.7518283 ,\n",
       "        0.22508584,  1.60329212,  1.15441352,  2.76975384,  1.0603247 ,\n",
       "        1.28507424,  7.65231621,  8.1291189 , 54.03820566,  1.05259977,\n",
       "        0.98542768,  1.45733452,  0.24963779,  0.3639088 ,  0.23801354])"
      ]
     },
     "execution_count": 44,
     "metadata": {},
     "output_type": "execute_result"
    }
   ],
   "source": [
    "model8.feature_importances_"
   ]
  },
  {
   "cell_type": "markdown",
   "metadata": {},
   "source": []
  },
  {
   "cell_type": "markdown",
   "metadata": {},
   "source": []
  },
  {
   "cell_type": "code",
   "execution_count": null,
   "metadata": {},
   "outputs": [],
   "source": []
  },
  {
   "cell_type": "code",
   "execution_count": null,
   "metadata": {},
   "outputs": [],
   "source": [
    "from sklearn.svm import SVR\n",
    "model3=SVR(kernel='linear')\n",
    "model3.fit(X_train,y_train)\n",
    "y_pred3=model3.predict(X_test)\n",
    "display(confusion_matrix(y_test,y_pred3))\n"
   ]
  },
  {
   "cell_type": "code",
   "execution_count": 71,
   "metadata": {},
   "outputs": [
    {
     "data": {
      "text/plain": [
       "(1333, 20)"
      ]
     },
     "execution_count": 71,
     "metadata": {},
     "output_type": "execute_result"
    }
   ],
   "source": [
    "X_train.shape"
   ]
  },
  {
   "cell_type": "code",
   "execution_count": 75,
   "metadata": {},
   "outputs": [
    {
     "data": {
      "text/plain": [
       "array([426.71123799,   7.46997166,   4.09520888, 234.13723231,\n",
       "         9.89314172, 201.12468925])"
      ]
     },
     "execution_count": 75,
     "metadata": {},
     "output_type": "execute_result"
    }
   ],
   "source": [
    "model3.intercept_"
   ]
  },
  {
   "cell_type": "code",
   "execution_count": 72,
   "metadata": {},
   "outputs": [
    {
     "data": {
      "text/html": [
       "<div>\n",
       "<style scoped>\n",
       "    .dataframe tbody tr th:only-of-type {\n",
       "        vertical-align: middle;\n",
       "    }\n",
       "\n",
       "    .dataframe tbody tr th {\n",
       "        vertical-align: top;\n",
       "    }\n",
       "\n",
       "    .dataframe thead th {\n",
       "        text-align: right;\n",
       "    }\n",
       "</style>\n",
       "<table border=\"1\" class=\"dataframe\">\n",
       "  <thead>\n",
       "    <tr style=\"text-align: right;\">\n",
       "      <th></th>\n",
       "      <th>0</th>\n",
       "      <th>1</th>\n",
       "      <th>2</th>\n",
       "      <th>3</th>\n",
       "      <th>4</th>\n",
       "      <th>5</th>\n",
       "    </tr>\n",
       "  </thead>\n",
       "  <tbody>\n",
       "    <tr>\n",
       "      <th>battery_power</th>\n",
       "      <td>-0.111554</td>\n",
       "      <td>-1.466274e-03</td>\n",
       "      <td>-7.139376e-04</td>\n",
       "      <td>-0.041999</td>\n",
       "      <td>-1.533686e-03</td>\n",
       "      <td>-0.027996</td>\n",
       "    </tr>\n",
       "    <tr>\n",
       "      <th>blue</th>\n",
       "      <td>-0.357958</td>\n",
       "      <td>-6.682238e-07</td>\n",
       "      <td>-4.832232e-07</td>\n",
       "      <td>0.264862</td>\n",
       "      <td>-2.495936e-06</td>\n",
       "      <td>0.450130</td>\n",
       "    </tr>\n",
       "    <tr>\n",
       "      <th>clock_speed</th>\n",
       "      <td>0.755741</td>\n",
       "      <td>2.429890e-06</td>\n",
       "      <td>6.928701e-07</td>\n",
       "      <td>-0.243314</td>\n",
       "      <td>1.144369e-06</td>\n",
       "      <td>0.308560</td>\n",
       "    </tr>\n",
       "    <tr>\n",
       "      <th>dual_sim</th>\n",
       "      <td>-0.150903</td>\n",
       "      <td>-6.682238e-07</td>\n",
       "      <td>-5.776793e-07</td>\n",
       "      <td>0.622480</td>\n",
       "      <td>-2.495936e-06</td>\n",
       "      <td>-0.688229</td>\n",
       "    </tr>\n",
       "    <tr>\n",
       "      <th>fc</th>\n",
       "      <td>0.237499</td>\n",
       "      <td>-1.959705e-05</td>\n",
       "      <td>-2.036927e-06</td>\n",
       "      <td>-0.231055</td>\n",
       "      <td>8.928441e-06</td>\n",
       "      <td>0.184854</td>\n",
       "    </tr>\n",
       "    <tr>\n",
       "      <th>four_g</th>\n",
       "      <td>-0.146709</td>\n",
       "      <td>3.924375e-07</td>\n",
       "      <td>-2.161242e-07</td>\n",
       "      <td>0.278598</td>\n",
       "      <td>-1.035992e-06</td>\n",
       "      <td>0.229153</td>\n",
       "    </tr>\n",
       "    <tr>\n",
       "      <th>int_memory</th>\n",
       "      <td>-0.077793</td>\n",
       "      <td>-1.168896e-04</td>\n",
       "      <td>-1.615418e-05</td>\n",
       "      <td>-0.060652</td>\n",
       "      <td>-4.500838e-06</td>\n",
       "      <td>-0.054288</td>\n",
       "    </tr>\n",
       "    <tr>\n",
       "      <th>m_dep</th>\n",
       "      <td>0.097941</td>\n",
       "      <td>-6.460399e-08</td>\n",
       "      <td>3.046688e-07</td>\n",
       "      <td>0.513050</td>\n",
       "      <td>3.554386e-06</td>\n",
       "      <td>0.380793</td>\n",
       "    </tr>\n",
       "    <tr>\n",
       "      <th>mobile_wt</th>\n",
       "      <td>0.240559</td>\n",
       "      <td>3.130353e-04</td>\n",
       "      <td>9.818920e-05</td>\n",
       "      <td>0.049433</td>\n",
       "      <td>4.052386e-04</td>\n",
       "      <td>0.073096</td>\n",
       "    </tr>\n",
       "    <tr>\n",
       "      <th>n_cores</th>\n",
       "      <td>-1.338225</td>\n",
       "      <td>4.015825e-06</td>\n",
       "      <td>-2.161242e-07</td>\n",
       "      <td>-0.482025</td>\n",
       "      <td>8.479026e-07</td>\n",
       "      <td>-0.121215</td>\n",
       "    </tr>\n",
       "    <tr>\n",
       "      <th>pc</th>\n",
       "      <td>-0.118133</td>\n",
       "      <td>-1.677933e-05</td>\n",
       "      <td>8.391232e-06</td>\n",
       "      <td>-0.231629</td>\n",
       "      <td>1.453235e-05</td>\n",
       "      <td>-0.151603</td>\n",
       "    </tr>\n",
       "    <tr>\n",
       "      <th>px_height</th>\n",
       "      <td>-0.062109</td>\n",
       "      <td>-7.722258e-04</td>\n",
       "      <td>-4.323149e-04</td>\n",
       "      <td>-0.023147</td>\n",
       "      <td>-9.520635e-04</td>\n",
       "      <td>-0.016563</td>\n",
       "    </tr>\n",
       "    <tr>\n",
       "      <th>px_width</th>\n",
       "      <td>-0.059797</td>\n",
       "      <td>-9.057051e-04</td>\n",
       "      <td>-4.123010e-04</td>\n",
       "      <td>-0.024951</td>\n",
       "      <td>-7.557788e-04</td>\n",
       "      <td>-0.016010</td>\n",
       "    </tr>\n",
       "    <tr>\n",
       "      <th>ram</th>\n",
       "      <td>-0.178559</td>\n",
       "      <td>-2.461039e-03</td>\n",
       "      <td>-1.163306e-03</td>\n",
       "      <td>-0.064199</td>\n",
       "      <td>-2.548103e-03</td>\n",
       "      <td>-0.045456</td>\n",
       "    </tr>\n",
       "    <tr>\n",
       "      <th>sc_h</th>\n",
       "      <td>0.473798</td>\n",
       "      <td>2.317607e-05</td>\n",
       "      <td>8.774837e-07</td>\n",
       "      <td>-0.051726</td>\n",
       "      <td>-3.767892e-05</td>\n",
       "      <td>-0.356071</td>\n",
       "    </tr>\n",
       "    <tr>\n",
       "      <th>sc_w</th>\n",
       "      <td>0.353237</td>\n",
       "      <td>2.025719e-05</td>\n",
       "      <td>4.643195e-06</td>\n",
       "      <td>0.045818</td>\n",
       "      <td>2.124335e-05</td>\n",
       "      <td>-0.129131</td>\n",
       "    </tr>\n",
       "    <tr>\n",
       "      <th>talk_time</th>\n",
       "      <td>0.203343</td>\n",
       "      <td>-8.767770e-06</td>\n",
       "      <td>-5.138191e-07</td>\n",
       "      <td>0.049148</td>\n",
       "      <td>3.844042e-05</td>\n",
       "      <td>0.027678</td>\n",
       "    </tr>\n",
       "    <tr>\n",
       "      <th>three_g</th>\n",
       "      <td>0.089298</td>\n",
       "      <td>6.957126e-07</td>\n",
       "      <td>-2.117582e-22</td>\n",
       "      <td>-0.492911</td>\n",
       "      <td>1.694066e-21</td>\n",
       "      <td>-1.162096</td>\n",
       "    </tr>\n",
       "    <tr>\n",
       "      <th>touch_screen</th>\n",
       "      <td>-0.321066</td>\n",
       "      <td>-2.295946e-06</td>\n",
       "      <td>5.776793e-07</td>\n",
       "      <td>0.479880</td>\n",
       "      <td>5.247045e-06</td>\n",
       "      <td>-0.168032</td>\n",
       "    </tr>\n",
       "    <tr>\n",
       "      <th>wifi</th>\n",
       "      <td>0.590586</td>\n",
       "      <td>2.964170e-06</td>\n",
       "      <td>1.114582e-06</td>\n",
       "      <td>1.024579</td>\n",
       "      <td>2.495936e-06</td>\n",
       "      <td>1.143549</td>\n",
       "    </tr>\n",
       "  </tbody>\n",
       "</table>\n",
       "</div>"
      ],
      "text/plain": [
       "                      0             1             2         3             4  \\\n",
       "battery_power -0.111554 -1.466274e-03 -7.139376e-04 -0.041999 -1.533686e-03   \n",
       "blue          -0.357958 -6.682238e-07 -4.832232e-07  0.264862 -2.495936e-06   \n",
       "clock_speed    0.755741  2.429890e-06  6.928701e-07 -0.243314  1.144369e-06   \n",
       "dual_sim      -0.150903 -6.682238e-07 -5.776793e-07  0.622480 -2.495936e-06   \n",
       "fc             0.237499 -1.959705e-05 -2.036927e-06 -0.231055  8.928441e-06   \n",
       "four_g        -0.146709  3.924375e-07 -2.161242e-07  0.278598 -1.035992e-06   \n",
       "int_memory    -0.077793 -1.168896e-04 -1.615418e-05 -0.060652 -4.500838e-06   \n",
       "m_dep          0.097941 -6.460399e-08  3.046688e-07  0.513050  3.554386e-06   \n",
       "mobile_wt      0.240559  3.130353e-04  9.818920e-05  0.049433  4.052386e-04   \n",
       "n_cores       -1.338225  4.015825e-06 -2.161242e-07 -0.482025  8.479026e-07   \n",
       "pc            -0.118133 -1.677933e-05  8.391232e-06 -0.231629  1.453235e-05   \n",
       "px_height     -0.062109 -7.722258e-04 -4.323149e-04 -0.023147 -9.520635e-04   \n",
       "px_width      -0.059797 -9.057051e-04 -4.123010e-04 -0.024951 -7.557788e-04   \n",
       "ram           -0.178559 -2.461039e-03 -1.163306e-03 -0.064199 -2.548103e-03   \n",
       "sc_h           0.473798  2.317607e-05  8.774837e-07 -0.051726 -3.767892e-05   \n",
       "sc_w           0.353237  2.025719e-05  4.643195e-06  0.045818  2.124335e-05   \n",
       "talk_time      0.203343 -8.767770e-06 -5.138191e-07  0.049148  3.844042e-05   \n",
       "three_g        0.089298  6.957126e-07 -2.117582e-22 -0.492911  1.694066e-21   \n",
       "touch_screen  -0.321066 -2.295946e-06  5.776793e-07  0.479880  5.247045e-06   \n",
       "wifi           0.590586  2.964170e-06  1.114582e-06  1.024579  2.495936e-06   \n",
       "\n",
       "                      5  \n",
       "battery_power -0.027996  \n",
       "blue           0.450130  \n",
       "clock_speed    0.308560  \n",
       "dual_sim      -0.688229  \n",
       "fc             0.184854  \n",
       "four_g         0.229153  \n",
       "int_memory    -0.054288  \n",
       "m_dep          0.380793  \n",
       "mobile_wt      0.073096  \n",
       "n_cores       -0.121215  \n",
       "pc            -0.151603  \n",
       "px_height     -0.016563  \n",
       "px_width      -0.016010  \n",
       "ram           -0.045456  \n",
       "sc_h          -0.356071  \n",
       "sc_w          -0.129131  \n",
       "talk_time      0.027678  \n",
       "three_g       -1.162096  \n",
       "touch_screen  -0.168032  \n",
       "wifi           1.143549  "
      ]
     },
     "execution_count": 72,
     "metadata": {},
     "output_type": "execute_result"
    }
   ],
   "source": [
    "pd.DataFrame(model3.coef_, columns=X_train.columns).T"
   ]
  },
  {
   "cell_type": "code",
   "execution_count": null,
   "metadata": {},
   "outputs": [],
   "source": []
  },
  {
   "cell_type": "code",
   "execution_count": null,
   "metadata": {},
   "outputs": [],
   "source": []
  },
  {
   "cell_type": "markdown",
   "metadata": {},
   "source": []
  },
  {
   "cell_type": "code",
   "execution_count": null,
   "metadata": {},
   "outputs": [],
   "source": []
  },
  {
   "cell_type": "markdown",
   "metadata": {},
   "source": [
    "#  Model Comparison"
   ]
  },
  {
   "cell_type": "code",
   "execution_count": 63,
   "metadata": {},
   "outputs": [],
   "source": [
    "a,p,r,f,m=[],[],[],[],[]\n",
    "for model in [model1, model2, model3, model4, model5, model6, model7,model8]:\n",
    "    a.append(accuracy_score(y_test, model.predict(X_test)))\n",
    "    p.append(precision_score(y_test, model.predict(X_test),average='micro'))\n",
    "    r.append(recall_score(y_test, model.predict(X_test),average='micro'))\n",
    "    f.append(f1_score(y_test, model.predict(X_test),average='micro'))\n",
    "    m.append(NM(y_test, model.predict(X_test).ravel()))"
   ]
  },
  {
   "cell_type": "code",
   "execution_count": 62,
   "metadata": {},
   "outputs": [
    {
     "data": {
      "text/html": [
       "<div>\n",
       "<style scoped>\n",
       "    .dataframe tbody tr th:only-of-type {\n",
       "        vertical-align: middle;\n",
       "    }\n",
       "\n",
       "    .dataframe tbody tr th {\n",
       "        vertical-align: top;\n",
       "    }\n",
       "\n",
       "    .dataframe thead th {\n",
       "        text-align: right;\n",
       "    }\n",
       "</style>\n",
       "<table border=\"1\" class=\"dataframe\">\n",
       "  <thead>\n",
       "    <tr style=\"text-align: right;\">\n",
       "      <th></th>\n",
       "      <th>0</th>\n",
       "      <th>1</th>\n",
       "      <th>2</th>\n",
       "      <th>3</th>\n",
       "      <th>4</th>\n",
       "    </tr>\n",
       "  </thead>\n",
       "  <tbody>\n",
       "    <tr>\n",
       "      <th>LR</th>\n",
       "      <td>0.250375</td>\n",
       "      <td>0.250375</td>\n",
       "      <td>0.250375</td>\n",
       "      <td>0.250375</td>\n",
       "      <td>108.345827</td>\n",
       "    </tr>\n",
       "    <tr>\n",
       "      <th>KNN</th>\n",
       "      <td>0.250375</td>\n",
       "      <td>0.250375</td>\n",
       "      <td>0.250375</td>\n",
       "      <td>0.250375</td>\n",
       "      <td>108.345827</td>\n",
       "    </tr>\n",
       "    <tr>\n",
       "      <th>Ada</th>\n",
       "      <td>0.644678</td>\n",
       "      <td>0.644678</td>\n",
       "      <td>0.644678</td>\n",
       "      <td>0.644678</td>\n",
       "      <td>20.977011</td>\n",
       "    </tr>\n",
       "    <tr>\n",
       "      <th>NB</th>\n",
       "      <td>0.806597</td>\n",
       "      <td>0.806597</td>\n",
       "      <td>0.806597</td>\n",
       "      <td>0.806597</td>\n",
       "      <td>8.870565</td>\n",
       "    </tr>\n",
       "    <tr>\n",
       "      <th>DT</th>\n",
       "      <td>0.823088</td>\n",
       "      <td>0.823088</td>\n",
       "      <td>0.823088</td>\n",
       "      <td>0.823088</td>\n",
       "      <td>8.420790</td>\n",
       "    </tr>\n",
       "    <tr>\n",
       "      <th>RF</th>\n",
       "      <td>0.881559</td>\n",
       "      <td>0.881559</td>\n",
       "      <td>0.881559</td>\n",
       "      <td>0.881559</td>\n",
       "      <td>5.134933</td>\n",
       "    </tr>\n",
       "    <tr>\n",
       "      <th>Cat</th>\n",
       "      <td>0.946027</td>\n",
       "      <td>0.946027</td>\n",
       "      <td>0.946027</td>\n",
       "      <td>0.946027</td>\n",
       "      <td>2.373813</td>\n",
       "    </tr>\n",
       "    <tr>\n",
       "      <th>SVM</th>\n",
       "      <td>0.958021</td>\n",
       "      <td>0.958021</td>\n",
       "      <td>0.958021</td>\n",
       "      <td>0.958021</td>\n",
       "      <td>1.686657</td>\n",
       "    </tr>\n",
       "  </tbody>\n",
       "</table>\n",
       "</div>"
      ],
      "text/plain": [
       "            0         1         2         3           4\n",
       "LR   0.250375  0.250375  0.250375  0.250375  108.345827\n",
       "KNN  0.250375  0.250375  0.250375  0.250375  108.345827\n",
       "Ada  0.644678  0.644678  0.644678  0.644678   20.977011\n",
       "NB   0.806597  0.806597  0.806597  0.806597    8.870565\n",
       "DT   0.823088  0.823088  0.823088  0.823088    8.420790\n",
       "RF   0.881559  0.881559  0.881559  0.881559    5.134933\n",
       "Cat  0.946027  0.946027  0.946027  0.946027    2.373813\n",
       "SVM  0.958021  0.958021  0.958021  0.958021    1.686657"
      ]
     },
     "execution_count": 62,
     "metadata": {},
     "output_type": "execute_result"
    }
   ],
   "source": [
    "pd.DataFrame([a,p,r,f,m], columns=['LR','KNN','SVM','NB','DT','RF','Ada','Cat']).T.sort_values(by=2)"
   ]
  },
  {
   "cell_type": "code",
   "execution_count": null,
   "metadata": {},
   "outputs": [],
   "source": []
  },
  {
   "cell_type": "markdown",
   "metadata": {},
   "source": [
    "## Custom Metric to verify which model is better"
   ]
  },
  {
   "cell_type": "markdown",
   "metadata": {},
   "source": [
    "###### [Y_actual - Y_Predicted)/(Y_actual+1)]\n",
    "\n",
    "The lower the better\n",
    "\n",
    "Explanation:\n",
    "    if predicted price > actual price: OK (will gain money maybe loosing some clients)\n",
    "    if predicted price < actual price: NOT OK (company will loose money)"
   ]
  },
  {
   "cell_type": "markdown",
   "metadata": {},
   "source": [
    "$\\frac{y-\\hat{y}}{\\hat{y}+1}$"
   ]
  },
  {
   "cell_type": "markdown",
   "metadata": {},
   "source": [
    "\n"
   ]
  },
  {
   "cell_type": "code",
   "execution_count": null,
   "metadata": {},
   "outputs": [],
   "source": []
  },
  {
   "cell_type": "code",
   "execution_count": 55,
   "metadata": {},
   "outputs": [],
   "source": [
    "def NM (Y_actual,Y_Predicted):\n",
    "    nm = np.mean(np.abs((Y_actual - Y_Predicted)/(Y_actual+1)))*100\n",
    "    return nm"
   ]
  },
  {
   "cell_type": "code",
   "execution_count": 49,
   "metadata": {},
   "outputs": [
    {
     "data": {
      "text/plain": [
       "121     0\n",
       "1702   -1\n",
       "1358   -2\n",
       "419    -3\n",
       "52      0\n",
       "       ..\n",
       "687    -3\n",
       "625    -2\n",
       "387    -2\n",
       "51     -1\n",
       "1559   -1\n",
       "Name: price_range, Length: 667, dtype: int64"
      ]
     },
     "execution_count": 49,
     "metadata": {},
     "output_type": "execute_result"
    }
   ],
   "source": [
    "y_test-model1.predict(X_test)"
   ]
  },
  {
   "cell_type": "code",
   "execution_count": 48,
   "metadata": {},
   "outputs": [
    {
     "ename": "NameError",
     "evalue": "name 'NM' is not defined",
     "output_type": "error",
     "traceback": [
      "\u001b[0;31m---------------------------------------------------------------------------\u001b[0m",
      "\u001b[0;31mNameError\u001b[0m                                 Traceback (most recent call last)",
      "\u001b[0;32m<ipython-input-48-d0749809d3e6>\u001b[0m in \u001b[0;36m<module>\u001b[0;34m\u001b[0m\n\u001b[0;32m----> 1\u001b[0;31m \u001b[0mNM\u001b[0m\u001b[0;34m(\u001b[0m\u001b[0my_test\u001b[0m\u001b[0;34m,\u001b[0m \u001b[0mmodel6\u001b[0m\u001b[0;34m.\u001b[0m\u001b[0mpredict\u001b[0m\u001b[0;34m(\u001b[0m\u001b[0mX_test\u001b[0m\u001b[0;34m)\u001b[0m\u001b[0;34m.\u001b[0m\u001b[0mravel\u001b[0m\u001b[0;34m(\u001b[0m\u001b[0;34m)\u001b[0m\u001b[0;34m)\u001b[0m\u001b[0;34m\u001b[0m\u001b[0;34m\u001b[0m\u001b[0m\n\u001b[0m",
      "\u001b[0;31mNameError\u001b[0m: name 'NM' is not defined"
     ]
    }
   ],
   "source": [
    "NM(y_test, model6.predict(X_test).ravel())"
   ]
  },
  {
   "cell_type": "code",
   "execution_count": 46,
   "metadata": {},
   "outputs": [],
   "source": [
    "s=pd.Series(model8.feature_importances_, index=X.columns)"
   ]
  },
  {
   "cell_type": "code",
   "execution_count": 47,
   "metadata": {},
   "outputs": [
    {
     "data": {
      "text/plain": [
       "<matplotlib.axes._subplots.AxesSubplot at 0x7febd6614d90>"
      ]
     },
     "execution_count": 47,
     "metadata": {},
     "output_type": "execute_result"
    },
    {
     "data": {
      "image/png": "[encoded data removed]",
      "text/plain": [
       "<Figure size 720x360 with 1 Axes>"
      ]
     },
     "metadata": {
      "needs_background": "light"
     },
     "output_type": "display_data"
    }
   ],
   "source": [
    "s.plot.barh(figsize=(10,5),color='green',title='Features Importance')"
   ]
  },
  {
   "cell_type": "code",
   "execution_count": null,
   "metadata": {},
   "outputs": [],
   "source": [
    "#NM(y_test, model6.predict(X_test).ravel())"
   ]
  },
  {
   "cell_type": "code",
   "execution_count": null,
   "metadata": {},
   "outputs": [],
   "source": []
  }
 ],
 "metadata": {
  "kernelspec": {
   "display_name": "Python 3",
   "language": "python",
   "name": "python3"
  },
  "language_info": {
   "codemirror_mode": {
    "name": "ipython",
    "version": 3
   },
   "file_extension": ".py",
   "mimetype": "text/x-python",
   "name": "python",
   "nbconvert_exporter": "python",
   "pygments_lexer": "ipython3",
   "version": "3.8.3"
  }
 },
 "nbformat": 4,
 "nbformat_minor": 4
}
